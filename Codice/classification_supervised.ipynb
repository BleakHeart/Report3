{
 "cells": [
  {
   "cell_type": "code",
   "execution_count": 2,
   "source": [
    "import pandas as pd\r\n",
    "import numpy as np\r\n",
    "import matplotlib.pyplot as plt\r\n",
    "import matplotlib as mpl\r\n",
    "import seaborn as sns\r\n",
    "from matplotlib.colors import ListedColormap\r\n",
    "\r\n",
    "from sklearn.cluster import KMeans\r\n",
    "from sklearn.decomposition import PCA\r\n",
    "from sklearn.metrics import silhouette_score, adjusted_rand_score\r\n",
    "from sklearn.pipeline import Pipeline\r\n",
    "from sklearn.preprocessing import LabelEncoder, MinMaxScaler\r\n",
    "import os\r\n",
    "import pickle\r\n",
    "\r\n",
    "import multiprocessing\r\n",
    "\r\n",
    "n_cores = multiprocessing.cpu_count() - 2\r\n",
    "fig_width_pt = 222.62206                # Get this from LaTeX using \\the\\columnwidth\r\n",
    "inches_per_pt = 1.0/72.27               # Convert pt to inches\r\n",
    "golden_mean = (np.sqrt(5)-1.0)/2.0         # Aesthetic ratio\r\n",
    "fig_width = fig_width_pt*inches_per_pt  # width in inches\r\n",
    "fig_height =fig_width*golden_mean       # height in inches\r\n",
    "fig_size = [fig_width,fig_height]\r\n",
    "params = {'backend': 'ps',\r\n",
    "          'axes.labelsize': 10,\r\n",
    "          'legend.fontsize': 10,\r\n",
    "          'xtick.labelsize': 8,\r\n",
    "          'ytick.labelsize': 8,\r\n",
    "          'figure.figsize': fig_size}\r\n",
    "\r\n",
    "mpl.rcParams.update(params)"
   ],
   "outputs": [],
   "metadata": {}
  },
  {
   "cell_type": "code",
   "execution_count": 3,
   "source": [
    "names = ['ID', 'Xcor','Ycor', 'F606','eF606','F814','eF814','chi','sharp']\r\n",
    "df_stars = pd.read_csv('../Data/hlsp_deep47tuc_hst_acs_47tuc_f606w-f814w_v1_catalog.txt', \r\n",
    "                      names=names, delim_whitespace=True, skiprows=1)\r\n",
    "\r\n",
    "df_stars['Label'] = 1\r\n",
    "df_stars.loc[df_stars.sharp < 0, 'Label'] = 0\r\n",
    "df_stars.loc[df_stars.sharp > 0, 'Label'] = 2\r\n",
    "\r\n",
    "df_stars['Color'] = df_stars.F606 - df_stars.F814\r\n",
    "\r\n",
    "df_stars.head()"
   ],
   "outputs": [
    {
     "output_type": "execute_result",
     "data": {
      "text/html": [
       "<div>\n",
       "<style scoped>\n",
       "    .dataframe tbody tr th:only-of-type {\n",
       "        vertical-align: middle;\n",
       "    }\n",
       "\n",
       "    .dataframe tbody tr th {\n",
       "        vertical-align: top;\n",
       "    }\n",
       "\n",
       "    .dataframe thead th {\n",
       "        text-align: right;\n",
       "    }\n",
       "</style>\n",
       "<table border=\"1\" class=\"dataframe\">\n",
       "  <thead>\n",
       "    <tr style=\"text-align: right;\">\n",
       "      <th></th>\n",
       "      <th>ID</th>\n",
       "      <th>Xcor</th>\n",
       "      <th>Ycor</th>\n",
       "      <th>F606</th>\n",
       "      <th>eF606</th>\n",
       "      <th>F814</th>\n",
       "      <th>eF814</th>\n",
       "      <th>chi</th>\n",
       "      <th>sharp</th>\n",
       "      <th>Label</th>\n",
       "      <th>Color</th>\n",
       "    </tr>\n",
       "  </thead>\n",
       "  <tbody>\n",
       "    <tr>\n",
       "      <th>0</th>\n",
       "      <td>8</td>\n",
       "      <td>4462.947</td>\n",
       "      <td>140.859</td>\n",
       "      <td>28.197</td>\n",
       "      <td>0.1036</td>\n",
       "      <td>27.127</td>\n",
       "      <td>0.1068</td>\n",
       "      <td>6.106</td>\n",
       "      <td>0.7310</td>\n",
       "      <td>2</td>\n",
       "      <td>1.070</td>\n",
       "    </tr>\n",
       "    <tr>\n",
       "      <th>1</th>\n",
       "      <td>120</td>\n",
       "      <td>5002.486</td>\n",
       "      <td>186.138</td>\n",
       "      <td>20.843</td>\n",
       "      <td>0.0552</td>\n",
       "      <td>19.815</td>\n",
       "      <td>0.0661</td>\n",
       "      <td>10.690</td>\n",
       "      <td>0.4000</td>\n",
       "      <td>2</td>\n",
       "      <td>1.028</td>\n",
       "    </tr>\n",
       "    <tr>\n",
       "      <th>2</th>\n",
       "      <td>165</td>\n",
       "      <td>5003.574</td>\n",
       "      <td>195.421</td>\n",
       "      <td>27.014</td>\n",
       "      <td>0.2194</td>\n",
       "      <td>26.068</td>\n",
       "      <td>0.1349</td>\n",
       "      <td>10.651</td>\n",
       "      <td>0.1940</td>\n",
       "      <td>2</td>\n",
       "      <td>0.946</td>\n",
       "    </tr>\n",
       "    <tr>\n",
       "      <th>3</th>\n",
       "      <td>226</td>\n",
       "      <td>4448.493</td>\n",
       "      <td>207.417</td>\n",
       "      <td>30.193</td>\n",
       "      <td>0.3641</td>\n",
       "      <td>28.270</td>\n",
       "      <td>0.1636</td>\n",
       "      <td>4.059</td>\n",
       "      <td>-1.9585</td>\n",
       "      <td>0</td>\n",
       "      <td>1.923</td>\n",
       "    </tr>\n",
       "    <tr>\n",
       "      <th>4</th>\n",
       "      <td>351</td>\n",
       "      <td>5040.717</td>\n",
       "      <td>224.366</td>\n",
       "      <td>28.935</td>\n",
       "      <td>0.1669</td>\n",
       "      <td>28.941</td>\n",
       "      <td>0.2464</td>\n",
       "      <td>4.274</td>\n",
       "      <td>-0.7720</td>\n",
       "      <td>0</td>\n",
       "      <td>-0.006</td>\n",
       "    </tr>\n",
       "  </tbody>\n",
       "</table>\n",
       "</div>"
      ],
      "text/plain": [
       "    ID      Xcor     Ycor    F606   eF606    F814   eF814     chi   sharp  \\\n",
       "0    8  4462.947  140.859  28.197  0.1036  27.127  0.1068   6.106  0.7310   \n",
       "1  120  5002.486  186.138  20.843  0.0552  19.815  0.0661  10.690  0.4000   \n",
       "2  165  5003.574  195.421  27.014  0.2194  26.068  0.1349  10.651  0.1940   \n",
       "3  226  4448.493  207.417  30.193  0.3641  28.270  0.1636   4.059 -1.9585   \n",
       "4  351  5040.717  224.366  28.935  0.1669  28.941  0.2464   4.274 -0.7720   \n",
       "\n",
       "   Label  Color  \n",
       "0      2  1.070  \n",
       "1      2  1.028  \n",
       "2      2  0.946  \n",
       "3      0  1.923  \n",
       "4      0 -0.006  "
      ]
     },
     "metadata": {},
     "execution_count": 3
    }
   ],
   "metadata": {}
  },
  {
   "cell_type": "code",
   "execution_count": 4,
   "source": [
    "df_stars.drop(labels=['Label', 'sharp'], axis=1)"
   ],
   "outputs": [
    {
     "output_type": "execute_result",
     "data": {
      "text/html": [
       "<div>\n",
       "<style scoped>\n",
       "    .dataframe tbody tr th:only-of-type {\n",
       "        vertical-align: middle;\n",
       "    }\n",
       "\n",
       "    .dataframe tbody tr th {\n",
       "        vertical-align: top;\n",
       "    }\n",
       "\n",
       "    .dataframe thead th {\n",
       "        text-align: right;\n",
       "    }\n",
       "</style>\n",
       "<table border=\"1\" class=\"dataframe\">\n",
       "  <thead>\n",
       "    <tr style=\"text-align: right;\">\n",
       "      <th></th>\n",
       "      <th>ID</th>\n",
       "      <th>Xcor</th>\n",
       "      <th>Ycor</th>\n",
       "      <th>F606</th>\n",
       "      <th>eF606</th>\n",
       "      <th>F814</th>\n",
       "      <th>eF814</th>\n",
       "      <th>chi</th>\n",
       "      <th>Color</th>\n",
       "    </tr>\n",
       "  </thead>\n",
       "  <tbody>\n",
       "    <tr>\n",
       "      <th>0</th>\n",
       "      <td>8</td>\n",
       "      <td>4462.947</td>\n",
       "      <td>140.859</td>\n",
       "      <td>28.197</td>\n",
       "      <td>0.1036</td>\n",
       "      <td>27.127</td>\n",
       "      <td>0.1068</td>\n",
       "      <td>6.106</td>\n",
       "      <td>1.070</td>\n",
       "    </tr>\n",
       "    <tr>\n",
       "      <th>1</th>\n",
       "      <td>120</td>\n",
       "      <td>5002.486</td>\n",
       "      <td>186.138</td>\n",
       "      <td>20.843</td>\n",
       "      <td>0.0552</td>\n",
       "      <td>19.815</td>\n",
       "      <td>0.0661</td>\n",
       "      <td>10.690</td>\n",
       "      <td>1.028</td>\n",
       "    </tr>\n",
       "    <tr>\n",
       "      <th>2</th>\n",
       "      <td>165</td>\n",
       "      <td>5003.574</td>\n",
       "      <td>195.421</td>\n",
       "      <td>27.014</td>\n",
       "      <td>0.2194</td>\n",
       "      <td>26.068</td>\n",
       "      <td>0.1349</td>\n",
       "      <td>10.651</td>\n",
       "      <td>0.946</td>\n",
       "    </tr>\n",
       "    <tr>\n",
       "      <th>3</th>\n",
       "      <td>226</td>\n",
       "      <td>4448.493</td>\n",
       "      <td>207.417</td>\n",
       "      <td>30.193</td>\n",
       "      <td>0.3641</td>\n",
       "      <td>28.270</td>\n",
       "      <td>0.1636</td>\n",
       "      <td>4.059</td>\n",
       "      <td>1.923</td>\n",
       "    </tr>\n",
       "    <tr>\n",
       "      <th>4</th>\n",
       "      <td>351</td>\n",
       "      <td>5040.717</td>\n",
       "      <td>224.366</td>\n",
       "      <td>28.935</td>\n",
       "      <td>0.1669</td>\n",
       "      <td>28.941</td>\n",
       "      <td>0.2464</td>\n",
       "      <td>4.274</td>\n",
       "      <td>-0.006</td>\n",
       "    </tr>\n",
       "    <tr>\n",
       "      <th>...</th>\n",
       "      <td>...</td>\n",
       "      <td>...</td>\n",
       "      <td>...</td>\n",
       "      <td>...</td>\n",
       "      <td>...</td>\n",
       "      <td>...</td>\n",
       "      <td>...</td>\n",
       "      <td>...</td>\n",
       "      <td>...</td>\n",
       "    </tr>\n",
       "    <tr>\n",
       "      <th>51475</th>\n",
       "      <td>899987</td>\n",
       "      <td>3417.467</td>\n",
       "      <td>10394.319</td>\n",
       "      <td>26.895</td>\n",
       "      <td>0.0783</td>\n",
       "      <td>25.602</td>\n",
       "      <td>0.1050</td>\n",
       "      <td>9.508</td>\n",
       "      <td>1.293</td>\n",
       "    </tr>\n",
       "    <tr>\n",
       "      <th>51476</th>\n",
       "      <td>900088</td>\n",
       "      <td>3435.031</td>\n",
       "      <td>10396.730</td>\n",
       "      <td>23.152</td>\n",
       "      <td>0.0504</td>\n",
       "      <td>22.662</td>\n",
       "      <td>0.0505</td>\n",
       "      <td>8.823</td>\n",
       "      <td>0.490</td>\n",
       "    </tr>\n",
       "    <tr>\n",
       "      <th>51477</th>\n",
       "      <td>900094</td>\n",
       "      <td>3594.567</td>\n",
       "      <td>10397.340</td>\n",
       "      <td>27.209</td>\n",
       "      <td>0.0815</td>\n",
       "      <td>27.130</td>\n",
       "      <td>0.0900</td>\n",
       "      <td>4.311</td>\n",
       "      <td>0.079</td>\n",
       "    </tr>\n",
       "    <tr>\n",
       "      <th>51478</th>\n",
       "      <td>900176</td>\n",
       "      <td>5155.093</td>\n",
       "      <td>10397.920</td>\n",
       "      <td>28.235</td>\n",
       "      <td>0.0984</td>\n",
       "      <td>26.477</td>\n",
       "      <td>0.0937</td>\n",
       "      <td>6.173</td>\n",
       "      <td>1.758</td>\n",
       "    </tr>\n",
       "    <tr>\n",
       "      <th>51479</th>\n",
       "      <td>900218</td>\n",
       "      <td>5658.604</td>\n",
       "      <td>10399.720</td>\n",
       "      <td>24.898</td>\n",
       "      <td>0.0349</td>\n",
       "      <td>24.198</td>\n",
       "      <td>0.0752</td>\n",
       "      <td>8.477</td>\n",
       "      <td>0.700</td>\n",
       "    </tr>\n",
       "  </tbody>\n",
       "</table>\n",
       "<p>51480 rows × 9 columns</p>\n",
       "</div>"
      ],
      "text/plain": [
       "           ID      Xcor       Ycor    F606   eF606    F814   eF814     chi  \\\n",
       "0           8  4462.947    140.859  28.197  0.1036  27.127  0.1068   6.106   \n",
       "1         120  5002.486    186.138  20.843  0.0552  19.815  0.0661  10.690   \n",
       "2         165  5003.574    195.421  27.014  0.2194  26.068  0.1349  10.651   \n",
       "3         226  4448.493    207.417  30.193  0.3641  28.270  0.1636   4.059   \n",
       "4         351  5040.717    224.366  28.935  0.1669  28.941  0.2464   4.274   \n",
       "...       ...       ...        ...     ...     ...     ...     ...     ...   \n",
       "51475  899987  3417.467  10394.319  26.895  0.0783  25.602  0.1050   9.508   \n",
       "51476  900088  3435.031  10396.730  23.152  0.0504  22.662  0.0505   8.823   \n",
       "51477  900094  3594.567  10397.340  27.209  0.0815  27.130  0.0900   4.311   \n",
       "51478  900176  5155.093  10397.920  28.235  0.0984  26.477  0.0937   6.173   \n",
       "51479  900218  5658.604  10399.720  24.898  0.0349  24.198  0.0752   8.477   \n",
       "\n",
       "       Color  \n",
       "0      1.070  \n",
       "1      1.028  \n",
       "2      0.946  \n",
       "3      1.923  \n",
       "4     -0.006  \n",
       "...      ...  \n",
       "51475  1.293  \n",
       "51476  0.490  \n",
       "51477  0.079  \n",
       "51478  1.758  \n",
       "51479  0.700  \n",
       "\n",
       "[51480 rows x 9 columns]"
      ]
     },
     "metadata": {},
     "execution_count": 4
    }
   ],
   "metadata": {}
  },
  {
   "cell_type": "markdown",
   "source": [
    "# Visualize Data"
   ],
   "metadata": {}
  },
  {
   "cell_type": "code",
   "execution_count": 5,
   "source": [
    "plt.figure(figsize=(10,5))\r\n",
    "plt.plot(df_stars.Color, df_stars.F814, ',')\r\n",
    "plt.xlabel('Color')\r\n",
    "plt.ylabel('F814')\r\n",
    "plt.grid()\r\n",
    "#plt.xlim(33, 13)\r\n",
    "plt.ylim(33, 12)"
   ],
   "outputs": [
    {
     "output_type": "execute_result",
     "data": {
      "text/plain": [
       "(33.0, 12.0)"
      ]
     },
     "metadata": {},
     "execution_count": 5
    },
    {
     "output_type": "display_data",
     "data": {
      "image/png": "[encoded data removed]",
      "text/plain": [
       "<Figure size 720x360 with 1 Axes>"
      ]
     },
     "metadata": {
      "needs_background": "light"
     }
    }
   ],
   "metadata": {}
  },
  {
   "cell_type": "markdown",
   "source": [
    "# Splitting the dataset into train and test samples "
   ],
   "metadata": {}
  },
  {
   "cell_type": "code",
   "execution_count": 6,
   "source": [
    "from sklearn.model_selection import train_test_split\r\n",
    "from sklearn.preprocessing import minmax_scale\r\n",
    "\r\n",
    "x_preprocessed = minmax_scale(X=df_stars.drop(labels=['Label', 'sharp'], axis=1).values)\r\n",
    "x_train, x_test, y_train, y_test = train_test_split(x_preprocessed, df_stars.Label.values)"
   ],
   "outputs": [],
   "metadata": {}
  },
  {
   "cell_type": "markdown",
   "source": [
    "# Grid Search and Cross Validation process\n",
    "## Random Forest Classifier and Grid Search"
   ],
   "metadata": {}
  },
  {
   "cell_type": "code",
   "execution_count": 7,
   "source": [
    "from sklearn.model_selection import cross_validate\r\n",
    "from sklearn.model_selection import GridSearchCV\r\n",
    "from sklearn.ensemble import ExtraTreesClassifier\r\n",
    "\r\n",
    "if not(os.path.isfile(\"../Model_best_parameters/best_parameters_DT.p\")):\r\n",
    "    grid_param_DT = {'n_estimators': [100, 300, 500, 800, 1000],\r\n",
    "                     'criterion': ['gini', 'entropy']\r\n",
    "                    }\r\n",
    "\r\n",
    "    model_DT = ExtraTreesClassifier()\r\n",
    "\r\n",
    "    gs_src_DT = GridSearchCV(estimator=model_DT, \r\n",
    "                 param_grid=grid_param_DT,\r\n",
    "                 scoring='accuracy',\r\n",
    "                 cv=10,\r\n",
    "                 n_jobs=-1)\r\n",
    "\r\n",
    "    gs_src_DT.fit(x_train, y_train)\r\n",
    "    best_parameters = gs_src_DT.best_params_\r\n",
    "    \r\n",
    "    pickle.dump(best_parameters, open(\"../Model_best_parameters/best_parameters_DT.p\", \"wb\"))\r\n",
    "\r\n",
    "    importances = model_DT.feature_importances_\r\n",
    "    std = np.std([tree.feature_importances_ for tree in model_DT.estimators_], axis=0)\r\n",
    "\r\n",
    "    forest_importances = pd.Series(importances, index=df_stars.drop(labels=['Label', 'sharp'], \r\n",
    "                                                                    axis=1).columns)\r\n",
    "\r\n",
    "    fig, ax = plt.subplots(figsize=(16,9))\r\n",
    "    forest_importances.plot.bar(yerr=std, ax=ax)\r\n",
    "    ax.set_title(\"Feature importances using MDI\")\r\n",
    "    ax.set_ylabel(\"Mean decrease in impurity\")\r\n",
    "    fig.tight_layout()\r\n",
    "else:\r\n",
    "    DT_param = pickle.load(open(\"../Model_best_parameters/best_parameters_DT.p\", 'rb'))\r\n",
    "    \r\n",
    "    model_DT = ExtraTreesClassifier(**DT_param)\r\n",
    "    model_DT.fit(X=x_train, y=y_train)\r\n",
    "\r\n",
    "    std = np.std([tree.feature_importances_ for tree in model_DT.estimators_], axis=0)\r\n",
    "\r\n",
    "    forest_importances = pd.DataFrame({'Importances': model_DT.feature_importances_, \r\n",
    "                                       'Std': std}, index=df_stars.drop(labels=['Label', 'sharp'], \r\n",
    "                                                                    axis=1).columns)\r\n",
    "\r\n",
    "    forest_importances.sort_values(by='Importances', ascending=False, inplace=True)\r\n",
    "\r\n",
    "    fig, ax = plt.subplots(figsize=(16,9))\r\n",
    "    forest_importances.Importances.plot.bar(yerr=forest_importances.Std, ax=ax)\r\n",
    "    ax.set_title(\"Feature importances using MDI\")\r\n",
    "    ax.set_ylabel(\"Mean decrease in impurity\")\r\n",
    "    fig.tight_layout()"
   ],
   "outputs": [
    {
     "output_type": "display_data",
     "data": {
      "image/png": "[encoded data removed]",
      "text/plain": [
       "<Figure size 1152x648 with 1 Axes>"
      ]
     },
     "metadata": {
      "needs_background": "light"
     }
    }
   ],
   "metadata": {}
  },
  {
   "cell_type": "code",
   "execution_count": 8,
   "source": [
    "from sklearn.metrics import make_scorer, accuracy_score, precision_score, recall_score, f1_score\r\n",
    "\r\n",
    "\r\n",
    "scoring = {'accuracy' : make_scorer(accuracy_score), \r\n",
    "           'precision' : make_scorer(precision_score, average='micro'),\r\n",
    "           'recall' : make_scorer(recall_score, average='micro'), \r\n",
    "           'f1_score' : make_scorer(f1_score, average='micro')}\r\n",
    "\r\n",
    "model_DT = ExtraTreesClassifier(**DT_param)\r\n",
    "\r\n",
    "DT_score = cross_validate(estimator=model_DT, X=x_train, y=y_train, cv=n_cores, scoring=scoring, n_jobs=n_cores)"
   ],
   "outputs": [],
   "metadata": {}
  },
  {
   "cell_type": "markdown",
   "source": [
    "## Support Vector Classifier Grid Search"
   ],
   "metadata": {}
  },
  {
   "cell_type": "code",
   "execution_count": 9,
   "source": [
    "from sklearn.svm import SVC\r\n",
    "from sklearn.metrics import classification_report, confusion_matrix\r\n",
    "\r\n",
    "if not(os.path.isfile(\"../Model_best_parameters/best_parameters_svm.p\")):\r\n",
    "    grid_param_SVM = {'C': [0.1, 1, 10, 100],\r\n",
    "                      'kernel': ['poly', 'rbf']\r\n",
    "                     }\r\n",
    "\r\n",
    "    model_SVM = SVC(class_weight='balanced')\r\n",
    "\r\n",
    "\r\n",
    "    gs_src_svm = GridSearchCV(estimator=model_SVM, \r\n",
    "                 param_grid=grid_param_SVM,\r\n",
    "                 scoring='accuracy',\r\n",
    "                 cv=10,\r\n",
    "                 n_jobs=-1)\r\n",
    "\r\n",
    "    gs_src_svm.fit(x_train, y_train)\r\n",
    "    \r\n",
    "    best_parameters_SVM = gs_src_svm.best_params_\r\n",
    "    best_parameters_SVM\r\n",
    "    \r\n",
    "    pickle.dump(best_parameters, open(\"../Model_best_parameters/best_parameters_svm.p\", \"wb\"))\r\n",
    "else: \r\n",
    "    SVM_param = pickle.load(open(\"../Model_best_parameters/best_parameters_svm.p\", \"rb\"))"
   ],
   "outputs": [],
   "metadata": {}
  },
  {
   "cell_type": "code",
   "execution_count": 10,
   "source": [
    "model_SVM = SVC(**SVM_param, class_weight='balanced')\r\n",
    "\r\n",
    "SVM_score = cross_validate(estimator=model_SVM, X=x_train, y=y_train, cv=n_cores, scoring=scoring, n_jobs=n_cores)"
   ],
   "outputs": [],
   "metadata": {}
  },
  {
   "cell_type": "code",
   "execution_count": 11,
   "source": [
    "#pd.DataFrame(SVM_score).T.mean(axis=1), pd.DataFrame(SVM_score).T.std(axis=1)"
   ],
   "outputs": [],
   "metadata": {}
  },
  {
   "cell_type": "code",
   "execution_count": 12,
   "source": [
    "#pd.DataFrame(SVM_score).T.to_csv(\"../Results/SVM_score.csv\", header=False)"
   ],
   "outputs": [],
   "metadata": {}
  },
  {
   "cell_type": "markdown",
   "source": [
    "## New investigations"
   ],
   "metadata": {}
  },
  {
   "cell_type": "markdown",
   "source": [
    "### Random Forest "
   ],
   "metadata": {}
  },
  {
   "cell_type": "code",
   "execution_count": 13,
   "source": [
    "model_DT.fit(x_train, y_train)\r\n",
    "\r\n",
    "DT_train_pred = model_DT.predict(X=x_train)\r\n",
    "DT_test_pred = model_DT.predict(X=x_test)"
   ],
   "outputs": [],
   "metadata": {}
  },
  {
   "cell_type": "code",
   "execution_count": 14,
   "source": [
    "print('Train report:\\n')\r\n",
    "print(classification_report(y_train, DT_train_pred, labels=[0, 1, 2]))\r\n",
    "\r\n",
    "fig, axs = plt.subplots(2, 1, figsize=(fig_width, fig_width*golden_mean*2.6))\r\n",
    "sns.heatmap(confusion_matrix(y_train, DT_train_pred, labels=[0, 1, 2]), \r\n",
    "            ax=axs[0], cmap=\"crest\", annot=True)\r\n",
    "axs[0].set_title('Random Forest Train set')\r\n",
    "axs[0].set_ylabel('True label')\r\n",
    "\r\n",
    "print('Test report:\\n')\r\n",
    "print(classification_report(y_test, DT_test_pred, labels=[0, 1, 2]))\r\n",
    "\r\n",
    "sns.heatmap(confusion_matrix(y_test, DT_test_pred, labels=[0, 1, 2]), \r\n",
    "            ax=axs[1], cmap=\"crest\", annot=True)\r\n",
    "axs[1].set_title('Random Forest Test set')\r\n",
    "axs[1].set_ylabel('True label')\r\n",
    "axs[1].set_xlabel('Predicted label')\r\n",
    "\r\n",
    "fig.tight_layout()\r\n",
    "\r\n",
    "#plt.savefig('../Results/Images/DT_confusion_matrix.png', dpi=2000, transparent=False)"
   ],
   "outputs": [
    {
     "output_type": "stream",
     "name": "stdout",
     "text": [
      "Train report:\n",
      "\n",
      "              precision    recall  f1-score   support\n",
      "\n",
      "           0       1.00      1.00      1.00     15022\n",
      "           1       1.00      1.00      1.00      2057\n",
      "           2       1.00      1.00      1.00     21531\n",
      "\n",
      "    accuracy                           1.00     38610\n",
      "   macro avg       1.00      1.00      1.00     38610\n",
      "weighted avg       1.00      1.00      1.00     38610\n",
      "\n",
      "Test report:\n",
      "\n",
      "              precision    recall  f1-score   support\n",
      "\n",
      "           0       0.77      0.68      0.72      5039\n",
      "           1       1.00      0.96      0.98       694\n",
      "           2       0.79      0.86      0.82      7137\n",
      "\n",
      "    accuracy                           0.79     12870\n",
      "   macro avg       0.85      0.83      0.84     12870\n",
      "weighted avg       0.79      0.79      0.79     12870\n",
      "\n"
     ]
    },
    {
     "output_type": "display_data",
     "data": {
      "image/png": "[encoded data removed]",
      "text/plain": [
       "<Figure size 221.79x356.392 with 4 Axes>"
      ]
     },
     "metadata": {
      "needs_background": "light"
     }
    }
   ],
   "metadata": {}
  },
  {
   "cell_type": "markdown",
   "source": [
    "### SVM "
   ],
   "metadata": {}
  },
  {
   "cell_type": "code",
   "execution_count": 15,
   "source": [
    "model_SVM.fit(X=x_train, y=y_train)\r\n",
    "\r\n",
    "SVM_train_pred = model_SVM.predict(X=x_train)\r\n",
    "SVM_test_pred = model_SVM.predict(X=x_test)"
   ],
   "outputs": [],
   "metadata": {}
  },
  {
   "cell_type": "code",
   "execution_count": 16,
   "source": [
    "print('Train report:\\n')\r\n",
    "print(classification_report(y_train, SVM_train_pred, labels=[0, 1, 2]))\r\n",
    "\r\n",
    "fig, axs = plt.subplots(2, 1, figsize=(fig_width, fig_width*golden_mean*2.6))\r\n",
    "sns.heatmap(confusion_matrix(y_train, SVM_train_pred, labels=[0, 1, 2]), \r\n",
    "            ax=axs[0], cmap=\"crest\", annot=True)\r\n",
    "axs[0].set_title('SVM Train set')\r\n",
    "axs[0].set_ylabel('True label')\r\n",
    "\r\n",
    "sns.heatmap(confusion_matrix(y_test, SVM_test_pred, labels=[0, 1, 2]), \r\n",
    "            ax=axs[1], cmap=\"crest\", annot=True)\r\n",
    "axs[1].set_title('SVM Test set')\r\n",
    "axs[1].set_ylabel('True label')\r\n",
    "axs[1].set_xlabel('Predicted label')\r\n",
    "fig.tight_layout()\r\n",
    "print('Test report:\\n')\r\n",
    "print(classification_report(y_test, SVM_test_pred, labels=[0, 1, 2]))\r\n",
    "\r\n",
    "#plt.savefig('../Results/Images/SVM_confusion_matrix.png', dpi=2000, transparent=False)"
   ],
   "outputs": [
    {
     "output_type": "stream",
     "name": "stdout",
     "text": [
      "Train report:\n",
      "\n",
      "              precision    recall  f1-score   support\n",
      "\n",
      "           0       0.68      0.76      0.72     15022\n",
      "           1       1.00      0.96      0.98      2057\n",
      "           2       0.82      0.75      0.78     21531\n",
      "\n",
      "    accuracy                           0.77     38610\n",
      "   macro avg       0.83      0.82      0.83     38610\n",
      "weighted avg       0.77      0.77      0.77     38610\n",
      "\n",
      "Test report:\n",
      "\n",
      "              precision    recall  f1-score   support\n",
      "\n",
      "           0       0.68      0.76      0.72      5039\n",
      "           1       1.00      0.96      0.98       694\n",
      "           2       0.81      0.75      0.78      7137\n",
      "\n",
      "    accuracy                           0.76     12870\n",
      "   macro avg       0.83      0.82      0.82     12870\n",
      "weighted avg       0.77      0.76      0.76     12870\n",
      "\n"
     ]
    },
    {
     "output_type": "display_data",
     "data": {
      "image/png": "[encoded data removed]",
      "text/plain": [
       "<Figure size 221.79x356.392 with 4 Axes>"
      ]
     },
     "metadata": {
      "needs_background": "light"
     }
    }
   ],
   "metadata": {}
  },
  {
   "cell_type": "code",
   "execution_count": 17,
   "source": [
    "print(classification_report(y_test, SVM_test_pred, labels=[0, 1, 2]))\r\n",
    "confusion_matrix(y_test, SVM_test_pred, labels=[0, 1, 2])"
   ],
   "outputs": [
    {
     "output_type": "stream",
     "name": "stdout",
     "text": [
      "              precision    recall  f1-score   support\n",
      "\n",
      "           0       0.68      0.76      0.72      5039\n",
      "           1       1.00      0.96      0.98       694\n",
      "           2       0.81      0.75      0.78      7137\n",
      "\n",
      "    accuracy                           0.76     12870\n",
      "   macro avg       0.83      0.82      0.82     12870\n",
      "weighted avg       0.77      0.76      0.76     12870\n",
      "\n"
     ]
    },
    {
     "output_type": "execute_result",
     "data": {
      "text/plain": [
       "array([[3812,    0, 1227],\n",
       "       [  11,  667,   16],\n",
       "       [1797,    0, 5340]], dtype=int64)"
      ]
     },
     "metadata": {},
     "execution_count": 17
    }
   ],
   "metadata": {}
  }
 ],
 "metadata": {
  "interpreter": {
   "hash": "72e85bf8702a5531dd105b812468c0bac16632bcd99c74cc9ab556b094ff7be4"
  },
  "kernelspec": {
   "name": "python3",
   "display_name": "Python 3.9.6 64-bit"
  },
  "language_info": {
   "codemirror_mode": {
    "name": "ipython",
    "version": 3
   },
   "file_extension": ".py",
   "mimetype": "text/x-python",
   "name": "python",
   "nbconvert_exporter": "python",
   "pygments_lexer": "ipython3",
   "version": "3.9.6"
  },
  "toc": {
   "base_numbering": 1,
   "nav_menu": {},
   "number_sections": true,
   "sideBar": true,
   "skip_h1_title": false,
   "title_cell": "Table of Contents",
   "title_sidebar": "Contents",
   "toc_cell": false,
   "toc_position": {},
   "toc_section_display": true,
   "toc_window_display": false
  }
 },
 "nbformat": 4,
 "nbformat_minor": 2
}