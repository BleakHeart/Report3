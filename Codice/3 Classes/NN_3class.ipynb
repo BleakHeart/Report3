{
 "cells": [
  {
   "cell_type": "code",
   "execution_count": 1,
   "metadata": {},
   "outputs": [],
   "source": [
    "import pandas as pd\n",
    "import tensorflow as tf\n",
    "import numpy as np\n",
    "import matplotlib.pyplot as plt\n",
    "\n",
    "def plot_series(time, series, label, format=\"-\", start=0, end=None):\n",
    "    plt.plot(time[start:end], series[start:end], format, label=label)\n",
    "    plt.xlabel(\"Time\")\n",
    "    plt.ylabel(\"#Sunplots\")\n",
    "    plt.grid(True)"
   ]
  },
  {
   "cell_type": "code",
   "execution_count": 2,
   "metadata": {},
   "outputs": [
    {
     "data": {
      "text/html": [
       "<div>\n",
       "<style scoped>\n",
       "    .dataframe tbody tr th:only-of-type {\n",
       "        vertical-align: middle;\n",
       "    }\n",
       "\n",
       "    .dataframe tbody tr th {\n",
       "        vertical-align: top;\n",
       "    }\n",
       "\n",
       "    .dataframe thead th {\n",
       "        text-align: right;\n",
       "    }\n",
       "</style>\n",
       "<table border=\"1\" class=\"dataframe\">\n",
       "  <thead>\n",
       "    <tr style=\"text-align: right;\">\n",
       "      <th></th>\n",
       "      <th>F606W</th>\n",
       "      <th>F814W</th>\n",
       "      <th>Chi</th>\n",
       "      <th>Sharp</th>\n",
       "    </tr>\n",
       "  </thead>\n",
       "  <tbody>\n",
       "    <tr>\n",
       "      <th>0</th>\n",
       "      <td>28.197</td>\n",
       "      <td>27.127</td>\n",
       "      <td>6.106</td>\n",
       "      <td>2.0</td>\n",
       "    </tr>\n",
       "    <tr>\n",
       "      <th>1</th>\n",
       "      <td>20.843</td>\n",
       "      <td>19.815</td>\n",
       "      <td>10.690</td>\n",
       "      <td>2.0</td>\n",
       "    </tr>\n",
       "    <tr>\n",
       "      <th>2</th>\n",
       "      <td>27.014</td>\n",
       "      <td>26.068</td>\n",
       "      <td>10.651</td>\n",
       "      <td>2.0</td>\n",
       "    </tr>\n",
       "    <tr>\n",
       "      <th>3</th>\n",
       "      <td>30.193</td>\n",
       "      <td>28.270</td>\n",
       "      <td>4.059</td>\n",
       "      <td>1.0</td>\n",
       "    </tr>\n",
       "    <tr>\n",
       "      <th>4</th>\n",
       "      <td>28.935</td>\n",
       "      <td>28.941</td>\n",
       "      <td>4.274</td>\n",
       "      <td>1.0</td>\n",
       "    </tr>\n",
       "    <tr>\n",
       "      <th>...</th>\n",
       "      <td>...</td>\n",
       "      <td>...</td>\n",
       "      <td>...</td>\n",
       "      <td>...</td>\n",
       "    </tr>\n",
       "    <tr>\n",
       "      <th>51475</th>\n",
       "      <td>26.895</td>\n",
       "      <td>25.602</td>\n",
       "      <td>9.508</td>\n",
       "      <td>2.0</td>\n",
       "    </tr>\n",
       "    <tr>\n",
       "      <th>51476</th>\n",
       "      <td>23.152</td>\n",
       "      <td>22.662</td>\n",
       "      <td>8.823</td>\n",
       "      <td>1.0</td>\n",
       "    </tr>\n",
       "    <tr>\n",
       "      <th>51477</th>\n",
       "      <td>27.209</td>\n",
       "      <td>27.130</td>\n",
       "      <td>4.311</td>\n",
       "      <td>2.0</td>\n",
       "    </tr>\n",
       "    <tr>\n",
       "      <th>51478</th>\n",
       "      <td>28.235</td>\n",
       "      <td>26.477</td>\n",
       "      <td>6.173</td>\n",
       "      <td>2.0</td>\n",
       "    </tr>\n",
       "    <tr>\n",
       "      <th>51479</th>\n",
       "      <td>24.898</td>\n",
       "      <td>24.198</td>\n",
       "      <td>8.477</td>\n",
       "      <td>2.0</td>\n",
       "    </tr>\n",
       "  </tbody>\n",
       "</table>\n",
       "<p>51480 rows × 4 columns</p>\n",
       "</div>"
      ],
      "text/plain": [
       "        F606W   F814W     Chi  Sharp\n",
       "0      28.197  27.127   6.106    2.0\n",
       "1      20.843  19.815  10.690    2.0\n",
       "2      27.014  26.068  10.651    2.0\n",
       "3      30.193  28.270   4.059    1.0\n",
       "4      28.935  28.941   4.274    1.0\n",
       "...       ...     ...     ...    ...\n",
       "51475  26.895  25.602   9.508    2.0\n",
       "51476  23.152  22.662   8.823    1.0\n",
       "51477  27.209  27.130   4.311    2.0\n",
       "51478  28.235  26.477   6.173    2.0\n",
       "51479  24.898  24.198   8.477    2.0\n",
       "\n",
       "[51480 rows x 4 columns]"
      ]
     },
     "execution_count": 2,
     "metadata": {},
     "output_type": "execute_result"
    }
   ],
   "source": [
    "df = pd.read_csv(\"hlsp_deep47tuc_hst_acs_47tuc_f606w-f814w_v1_catalog.txt\", sep='\\s+')\n",
    "df.drop(columns=['X', 'Y', 'error', 'error.1', 'ID'], inplace=True)\n",
    "df.loc[df.Sharp > 0, 'Sharp'] = 2\n",
    "df.loc[df.Sharp < 0, 'Sharp'] = 0\n",
    "df.loc[df.Sharp == 0, 'Sharp'] = 1\n",
    "df"
   ]
  },
  {
   "cell_type": "code",
   "execution_count": 3,
   "metadata": {},
   "outputs": [],
   "source": [
    "X = df[df.columns[:-1]].to_numpy()\n",
    "y = df[df.columns[-1]].to_numpy().reshape(1, -1)"
   ]
  },
  {
   "cell_type": "code",
   "execution_count": 4,
   "metadata": {},
   "outputs": [
    {
     "data": {
      "text/plain": [
       "(51480, 3)"
      ]
     },
     "execution_count": 4,
     "metadata": {},
     "output_type": "execute_result"
    }
   ],
   "source": [
    "from tensorflow.keras.utils import to_categorical\n",
    "\n",
    "y = to_categorical(y, num_classes=3)[0]\n",
    "#y = labels.reshape(-1, 3)\n",
    "y.shape"
   ]
  },
  {
   "cell_type": "code",
   "execution_count": 5,
   "metadata": {},
   "outputs": [],
   "source": [
    "from sklearn.model_selection import train_test_split\n",
    "from sklearn.preprocessing import StandardScaler\n",
    "\n",
    "scaler = StandardScaler()\n",
    "X = scaler.fit(X).transform(X)\n",
    "\n",
    "X_train, X_test, y_train, y_test = train_test_split(X, y, test_size=0.2)\n",
    "X_train, X_val, y_train, y_val = train_test_split(X_train, y_train, test_size=0.2)"
   ]
  },
  {
   "cell_type": "code",
   "execution_count": 6,
   "metadata": {},
   "outputs": [
    {
     "name": "stdout",
     "output_type": "stream",
     "text": [
      "Model: \"sequential\"\n",
      "_________________________________________________________________\n",
      "Layer (type)                 Output Shape              Param #   \n",
      "=================================================================\n",
      "dense (Dense)                (None, 12)                48        \n",
      "_________________________________________________________________\n",
      "dense_1 (Dense)              (None, 256)               3328      \n",
      "_________________________________________________________________\n",
      "dense_2 (Dense)              (None, 128)               32896     \n",
      "_________________________________________________________________\n",
      "dense_3 (Dense)              (None, 64)                8256      \n",
      "_________________________________________________________________\n",
      "dense_4 (Dense)              (None, 32)                2080      \n",
      "_________________________________________________________________\n",
      "dense_5 (Dense)              (None, 3)                 99        \n",
      "=================================================================\n",
      "Total params: 46,707\n",
      "Trainable params: 46,707\n",
      "Non-trainable params: 0\n",
      "_________________________________________________________________\n"
     ]
    }
   ],
   "source": [
    "tf.keras.backend.clear_session()\n",
    "model = tf.keras.models.Sequential([\n",
    "    tf.keras.layers.Dense(12, input_dim=len(df.columns[:-1]), activation='relu'),\n",
    " tf.keras.layers.Dense(256, activation=\"relu\"),\n",
    " tf.keras.layers.Dense(128, activation=\"relu\"),\n",
    "    tf.keras.layers.Dense(64, activation=\"relu\"),\n",
    "    tf.keras.layers.Dense(32, activation=\"relu\"),\n",
    " tf.keras.layers.Dense(3, activation=\"softmax\")\n",
    "])\n",
    "model.summary()"
   ]
  },
  {
   "cell_type": "code",
   "execution_count": 7,
   "metadata": {},
   "outputs": [],
   "source": [
    "model.compile(optimizer='adam',\n",
    "              loss=tf.keras.losses.BinaryCrossentropy(from_logits=True),\n",
    "              metrics=['accuracy'])\n",
    "\n",
    "\n",
    "# metrics=['mae']\n",
    "# metrics=[tf.keras.metrics.RootMeanSquaredError()]"
   ]
  },
  {
   "cell_type": "code",
   "execution_count": 8,
   "metadata": {
    "scrolled": true
   },
   "outputs": [
    {
     "name": "stdout",
     "output_type": "stream",
     "text": [
      "Epoch 1/100\n",
      "1030/1030 [==============================] - 2s 2ms/step - loss: 0.6707 - accuracy: 0.6849 - val_loss: 0.6637 - val_accuracy: 0.7060\n",
      "Epoch 2/100\n",
      "1030/1030 [==============================] - 1s 1ms/step - loss: 0.6656 - accuracy: 0.7003 - val_loss: 0.6619 - val_accuracy: 0.7102\n",
      "Epoch 3/100\n",
      "1030/1030 [==============================] - 2s 1ms/step - loss: 0.6638 - accuracy: 0.7051 - val_loss: 0.6606 - val_accuracy: 0.7156\n",
      "Epoch 4/100\n",
      "1030/1030 [==============================] - 1s 1ms/step - loss: 0.6631 - accuracy: 0.7069 - val_loss: 0.6597 - val_accuracy: 0.7147\n",
      "Epoch 5/100\n",
      "1030/1030 [==============================] - 1s 1ms/step - loss: 0.6616 - accuracy: 0.7099 - val_loss: 0.6594 - val_accuracy: 0.7166\n",
      "Epoch 6/100\n",
      "1030/1030 [==============================] - 1s 1ms/step - loss: 0.6618 - accuracy: 0.7099 - val_loss: 0.6610 - val_accuracy: 0.7086\n",
      "Epoch 7/100\n",
      "1030/1030 [==============================] - 1s 1ms/step - loss: 0.6610 - accuracy: 0.7107 - val_loss: 0.6598 - val_accuracy: 0.7171\n",
      "Epoch 8/100\n",
      "1030/1030 [==============================] - 1s 1ms/step - loss: 0.6605 - accuracy: 0.7143 - val_loss: 0.6607 - val_accuracy: 0.7142\n",
      "Epoch 9/100\n",
      "1030/1030 [==============================] - 1s 1ms/step - loss: 0.6606 - accuracy: 0.7124 - val_loss: 0.6588 - val_accuracy: 0.7208\n",
      "Epoch 10/100\n",
      "1030/1030 [==============================] - 1s 1ms/step - loss: 0.6605 - accuracy: 0.7128 - val_loss: 0.6577 - val_accuracy: 0.7207\n",
      "Epoch 11/100\n",
      "1030/1030 [==============================] - 1s 1ms/step - loss: 0.6601 - accuracy: 0.7148 - val_loss: 0.6589 - val_accuracy: 0.7151\n",
      "Epoch 12/100\n",
      "1030/1030 [==============================] - 1s 1ms/step - loss: 0.6599 - accuracy: 0.7147 - val_loss: 0.6578 - val_accuracy: 0.7182\n",
      "Epoch 13/100\n",
      "1030/1030 [==============================] - 1s 1ms/step - loss: 0.6603 - accuracy: 0.7139 - val_loss: 0.6589 - val_accuracy: 0.7158\n",
      "Epoch 14/100\n",
      "1030/1030 [==============================] - 1s 1ms/step - loss: 0.6595 - accuracy: 0.7164 - val_loss: 0.6574 - val_accuracy: 0.7203\n",
      "Epoch 15/100\n",
      "1030/1030 [==============================] - 1s 1ms/step - loss: 0.6593 - accuracy: 0.7176 - val_loss: 0.6579 - val_accuracy: 0.7200\n",
      "Epoch 16/100\n",
      "1030/1030 [==============================] - 1s 1ms/step - loss: 0.6592 - accuracy: 0.7173 - val_loss: 0.6582 - val_accuracy: 0.7181\n",
      "Epoch 17/100\n",
      "1030/1030 [==============================] - 1s 1ms/step - loss: 0.6590 - accuracy: 0.7176 - val_loss: 0.6575 - val_accuracy: 0.7215\n",
      "Epoch 18/100\n",
      "1030/1030 [==============================] - 1s 1ms/step - loss: 0.6592 - accuracy: 0.7180 - val_loss: 0.6588 - val_accuracy: 0.7192\n",
      "Epoch 19/100\n",
      "1030/1030 [==============================] - 1s 1ms/step - loss: 0.6590 - accuracy: 0.7186 - val_loss: 0.6595 - val_accuracy: 0.7154\n",
      "Epoch 20/100\n",
      "1030/1030 [==============================] - 1s 1ms/step - loss: 0.6588 - accuracy: 0.7167 - val_loss: 0.6608 - val_accuracy: 0.7111\n",
      "Epoch 21/100\n",
      "1030/1030 [==============================] - 1s 1ms/step - loss: 0.6591 - accuracy: 0.7155 - val_loss: 0.6585 - val_accuracy: 0.7169\n",
      "Epoch 22/100\n",
      "1030/1030 [==============================] - 1s 1ms/step - loss: 0.6592 - accuracy: 0.7179 - val_loss: 0.6581 - val_accuracy: 0.7203\n",
      "Epoch 23/100\n",
      "1030/1030 [==============================] - 1s 1ms/step - loss: 0.6589 - accuracy: 0.7182 - val_loss: 0.6579 - val_accuracy: 0.7205\n",
      "Epoch 24/100\n",
      "1030/1030 [==============================] - 1s 1ms/step - loss: 0.6587 - accuracy: 0.7195 - val_loss: 0.6576 - val_accuracy: 0.7186\n",
      "Epoch 25/100\n",
      "1030/1030 [==============================] - 1s 1ms/step - loss: 0.6586 - accuracy: 0.7187 - val_loss: 0.6575 - val_accuracy: 0.7232\n",
      "Epoch 26/100\n",
      "1030/1030 [==============================] - 1s 1ms/step - loss: 0.6582 - accuracy: 0.7204 - val_loss: 0.6577 - val_accuracy: 0.7191\n",
      "Epoch 27/100\n",
      "1030/1030 [==============================] - 1s 1ms/step - loss: 0.6585 - accuracy: 0.7197 - val_loss: 0.6591 - val_accuracy: 0.7168\n",
      "Epoch 28/100\n",
      "1030/1030 [==============================] - 1s 1ms/step - loss: 0.6587 - accuracy: 0.7194 - val_loss: 0.6572 - val_accuracy: 0.7200\n",
      "Epoch 29/100\n",
      "1030/1030 [==============================] - 1s 1ms/step - loss: 0.6590 - accuracy: 0.7183 - val_loss: 0.6582 - val_accuracy: 0.7202\n",
      "Epoch 30/100\n",
      "1030/1030 [==============================] - 1s 1ms/step - loss: 0.6582 - accuracy: 0.7209 - val_loss: 0.6588 - val_accuracy: 0.7169\n",
      "Epoch 31/100\n",
      "1030/1030 [==============================] - 1s 1ms/step - loss: 0.6583 - accuracy: 0.7194 - val_loss: 0.6575 - val_accuracy: 0.7215\n",
      "Epoch 32/100\n",
      "1030/1030 [==============================] - 1s 1ms/step - loss: 0.6579 - accuracy: 0.7205 - val_loss: 0.6574 - val_accuracy: 0.7236\n",
      "Epoch 33/100\n",
      "1030/1030 [==============================] - 1s 1ms/step - loss: 0.6582 - accuracy: 0.7195 - val_loss: 0.6593 - val_accuracy: 0.7152\n",
      "Epoch 34/100\n",
      "1030/1030 [==============================] - 1s 1ms/step - loss: 0.6584 - accuracy: 0.7185 - val_loss: 0.6579 - val_accuracy: 0.7210\n",
      "Epoch 35/100\n",
      "1030/1030 [==============================] - 1s 1ms/step - loss: 0.6583 - accuracy: 0.7199 - val_loss: 0.6582 - val_accuracy: 0.7210\n",
      "Epoch 36/100\n",
      "1030/1030 [==============================] - 1s 1ms/step - loss: 0.6579 - accuracy: 0.7211 - val_loss: 0.6595 - val_accuracy: 0.7157\n",
      "Epoch 37/100\n",
      "1030/1030 [==============================] - 2s 1ms/step - loss: 0.6586 - accuracy: 0.7195 - val_loss: 0.6577 - val_accuracy: 0.7233\n",
      "Epoch 38/100\n",
      "1030/1030 [==============================] - 1s 1ms/step - loss: 0.6578 - accuracy: 0.7217 - val_loss: 0.6568 - val_accuracy: 0.7249\n",
      "Epoch 39/100\n",
      "1030/1030 [==============================] - 1s 1ms/step - loss: 0.6579 - accuracy: 0.7201 - val_loss: 0.6572 - val_accuracy: 0.7208\n",
      "Epoch 40/100\n",
      "1030/1030 [==============================] - 1s 1ms/step - loss: 0.6582 - accuracy: 0.7209 - val_loss: 0.6575 - val_accuracy: 0.7226\n",
      "Epoch 41/100\n",
      "1030/1030 [==============================] - 2s 1ms/step - loss: 0.6580 - accuracy: 0.7200 - val_loss: 0.6575 - val_accuracy: 0.7233\n",
      "Epoch 42/100\n",
      "1030/1030 [==============================] - 2s 2ms/step - loss: 0.6579 - accuracy: 0.7203 - val_loss: 0.6584 - val_accuracy: 0.7198\n",
      "Wall time: 1min 2s\n"
     ]
    }
   ],
   "source": [
    "%%time\n",
    "stopping = tf.keras.callbacks.EarlyStopping(monitor='loss', patience=4, mode='auto')\n",
    "history = model.fit(X_train, y_train, epochs=100, validation_data=(X_val, y_val), callbacks=stopping)"
   ]
  },
  {
   "cell_type": "code",
   "execution_count": 9,
   "metadata": {},
   "outputs": [],
   "source": [
    "_, accuracy = model.evaluate(X_val, y_val, verbose=0)"
   ]
  },
  {
   "cell_type": "code",
   "execution_count": 10,
   "metadata": {},
   "outputs": [
    {
     "data": {
      "text/plain": [
       "0.7198008894920349"
      ]
     },
     "execution_count": 10,
     "metadata": {},
     "output_type": "execute_result"
    }
   ],
   "source": [
    "accuracy"
   ]
  },
  {
   "cell_type": "code",
   "execution_count": 11,
   "metadata": {},
   "outputs": [],
   "source": [
    "prediction = model.predict(X_test)"
   ]
  },
  {
   "cell_type": "code",
   "execution_count": 12,
   "metadata": {},
   "outputs": [],
   "source": [
    "pred = prediction.argmax(axis=1)"
   ]
  },
  {
   "cell_type": "code",
   "execution_count": 24,
   "metadata": {
    "scrolled": true
   },
   "outputs": [
    {
     "data": {
      "text/plain": [
       "7473"
      ]
     },
     "execution_count": 24,
     "metadata": {},
     "output_type": "execute_result"
    }
   ],
   "source": [
    "(pred == y_test.argmax(axis=1)).sum()"
   ]
  },
  {
   "cell_type": "code",
   "execution_count": 13,
   "metadata": {},
   "outputs": [
    {
     "data": {
      "text/plain": [
       "(10296, 3)"
      ]
     },
     "execution_count": 13,
     "metadata": {},
     "output_type": "execute_result"
    }
   ],
   "source": [
    "y_test.shape"
   ]
  },
  {
   "cell_type": "code",
   "execution_count": 14,
   "metadata": {},
   "outputs": [
    {
     "data": {
      "text/plain": [
       "(0, 2901, 7395)"
      ]
     },
     "execution_count": 14,
     "metadata": {},
     "output_type": "execute_result"
    }
   ],
   "source": [
    "(pred == 0).sum(), (pred == 1).sum(), (pred == 2).sum()"
   ]
  },
  {
   "cell_type": "code",
   "execution_count": 15,
   "metadata": {},
   "outputs": [
    {
     "data": {
      "text/plain": [
       "(0, 4504, 5792)"
      ]
     },
     "execution_count": 15,
     "metadata": {},
     "output_type": "execute_result"
    }
   ],
   "source": [
    "(y_test.argmax(axis=1) == 0).sum(), (y_test.argmax(axis=1) == 1).sum(), (y_test.argmax(axis=1) == 2).sum()"
   ]
  },
  {
   "cell_type": "code",
   "execution_count": 34,
   "metadata": {},
   "outputs": [
    {
     "data": {
      "text/plain": [
       "array([[0., 1., 0.],\n",
       "       [0., 0., 1.],\n",
       "       [0., 1., 0.],\n",
       "       ...,\n",
       "       [0., 1., 0.],\n",
       "       [0., 1., 0.],\n",
       "       [0., 0., 1.]], dtype=float32)"
      ]
     },
     "execution_count": 34,
     "metadata": {},
     "output_type": "execute_result"
    }
   ],
   "source": [
    "y_test"
   ]
  },
  {
   "cell_type": "code",
   "execution_count": 16,
   "metadata": {},
   "outputs": [
    {
     "data": {
      "text/plain": [
       "(10275, 0, 21)"
      ]
     },
     "execution_count": 16,
     "metadata": {},
     "output_type": "execute_result"
    }
   ],
   "source": [
    "(prediction > 0).sum(), (prediction < 0).sum(), (prediction == 0).sum()"
   ]
  },
  {
   "cell_type": "code",
   "execution_count": 17,
   "metadata": {},
   "outputs": [
    {
     "data": {
      "text/plain": [
       "<matplotlib.collections.PathCollection at 0x1d3960dd9a0>"
      ]
     },
     "execution_count": 17,
     "metadata": {},
     "output_type": "execute_result"
    },
    {
     "data": {
      "image/png": "[encoded data removed]",
      "text/plain": [
       "<Figure size 432x288 with 1 Axes>"
      ]
     },
     "metadata": {
      "needs_background": "light"
     },
     "output_type": "display_data"
    }
   ],
   "source": [
    "plt.scatter(np.arange(len(prediction)),prediction)\n",
    "plt.scatter(np.arange(len(y_test)), y_test)"
   ]
  },
  {
   "cell_type": "code",
   "execution_count": null,
   "metadata": {},
   "outputs": [],
   "source": []
  }
 ],
 "metadata": {
  "kernelspec": {
   "display_name": "Python 3",
   "language": "python",
   "name": "python3"
  },
  "language_info": {
   "codemirror_mode": {
    "name": "ipython",
    "version": 3
   },
   "file_extension": ".py",
   "mimetype": "text/x-python",
   "name": "python",
   "nbconvert_exporter": "python",
   "pygments_lexer": "ipython3",
   "version": "3.8.2"
  },
  "toc": {
   "base_numbering": 1,
   "nav_menu": {},
   "number_sections": true,
   "sideBar": true,
   "skip_h1_title": false,
   "title_cell": "Table of Contents",
   "title_sidebar": "Contents",
   "toc_cell": false,
   "toc_position": {},
   "toc_section_display": true,
   "toc_window_display": false
  }
 },
 "nbformat": 4,
 "nbformat_minor": 4
}
