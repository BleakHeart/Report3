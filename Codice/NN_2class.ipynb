{
 "cells": [
  {
   "cell_type": "code",
   "execution_count": 1,
   "metadata": {},
   "outputs": [],
   "source": [
    "import pandas as pd\n",
    "import tensorflow as tf\n",
    "from tensorflow.keras import backend as K\n",
    "import numpy as np\n",
    "import matplotlib.pyplot as plt\n",
    "\n",
    "def plot_series(time, series, label, format=\"-\", start=0, end=None):\n",
    "    plt.plot(time[start:end], series[start:end], format, label=label)\n",
    "    plt.xlabel(\"Time\")\n",
    "    plt.ylabel(\"#Sunplots\")\n",
    "    plt.grid(True)"
   ]
  },
  {
   "cell_type": "markdown",
   "metadata": {},
   "source": [
    "# Import Data"
   ]
  },
  {
   "cell_type": "code",
   "execution_count": 2,
   "metadata": {},
   "outputs": [],
   "source": [
    "df = pd.read_csv(\"hlsp_deep47tuc_hst_acs_47tuc_f606w-f814w_v1_catalog.txt\", sep='\\s+')"
   ]
  },
  {
   "cell_type": "code",
   "execution_count": 3,
   "metadata": {},
   "outputs": [
    {
     "data": {
      "text/html": [
       "<div>\n",
       "<style scoped>\n",
       "    .dataframe tbody tr th:only-of-type {\n",
       "        vertical-align: middle;\n",
       "    }\n",
       "\n",
       "    .dataframe tbody tr th {\n",
       "        vertical-align: top;\n",
       "    }\n",
       "\n",
       "    .dataframe thead th {\n",
       "        text-align: right;\n",
       "    }\n",
       "</style>\n",
       "<table border=\"1\" class=\"dataframe\">\n",
       "  <thead>\n",
       "    <tr style=\"text-align: right;\">\n",
       "      <th></th>\n",
       "      <th>ID</th>\n",
       "      <th>X</th>\n",
       "      <th>Y</th>\n",
       "      <th>F606W</th>\n",
       "      <th>error</th>\n",
       "      <th>F814W</th>\n",
       "      <th>error.1</th>\n",
       "      <th>Chi</th>\n",
       "      <th>Sharp</th>\n",
       "    </tr>\n",
       "  </thead>\n",
       "  <tbody>\n",
       "    <tr>\n",
       "      <th>ID</th>\n",
       "      <td>1.000000</td>\n",
       "      <td>0.016550</td>\n",
       "      <td>0.230450</td>\n",
       "      <td>-0.498692</td>\n",
       "      <td>-0.110443</td>\n",
       "      <td>-0.458595</td>\n",
       "      <td>-0.105819</td>\n",
       "      <td>-0.224421</td>\n",
       "      <td>0.009418</td>\n",
       "    </tr>\n",
       "    <tr>\n",
       "      <th>X</th>\n",
       "      <td>0.016550</td>\n",
       "      <td>1.000000</td>\n",
       "      <td>0.053451</td>\n",
       "      <td>-0.096873</td>\n",
       "      <td>-0.081905</td>\n",
       "      <td>-0.103088</td>\n",
       "      <td>-0.075036</td>\n",
       "      <td>0.036013</td>\n",
       "      <td>0.044140</td>\n",
       "    </tr>\n",
       "    <tr>\n",
       "      <th>Y</th>\n",
       "      <td>0.230450</td>\n",
       "      <td>0.053451</td>\n",
       "      <td>1.000000</td>\n",
       "      <td>-0.154213</td>\n",
       "      <td>-0.112309</td>\n",
       "      <td>-0.162024</td>\n",
       "      <td>-0.103044</td>\n",
       "      <td>0.043035</td>\n",
       "      <td>0.051405</td>\n",
       "    </tr>\n",
       "    <tr>\n",
       "      <th>F606W</th>\n",
       "      <td>-0.498692</td>\n",
       "      <td>-0.096873</td>\n",
       "      <td>-0.154213</td>\n",
       "      <td>1.000000</td>\n",
       "      <td>0.560325</td>\n",
       "      <td>0.981704</td>\n",
       "      <td>0.516773</td>\n",
       "      <td>0.041261</td>\n",
       "      <td>-0.156516</td>\n",
       "    </tr>\n",
       "    <tr>\n",
       "      <th>error</th>\n",
       "      <td>-0.110443</td>\n",
       "      <td>-0.081905</td>\n",
       "      <td>-0.112309</td>\n",
       "      <td>0.560325</td>\n",
       "      <td>1.000000</td>\n",
       "      <td>0.565141</td>\n",
       "      <td>0.800688</td>\n",
       "      <td>0.249743</td>\n",
       "      <td>-0.552203</td>\n",
       "    </tr>\n",
       "    <tr>\n",
       "      <th>F814W</th>\n",
       "      <td>-0.458595</td>\n",
       "      <td>-0.103088</td>\n",
       "      <td>-0.162024</td>\n",
       "      <td>0.981704</td>\n",
       "      <td>0.565141</td>\n",
       "      <td>1.000000</td>\n",
       "      <td>0.572660</td>\n",
       "      <td>0.044171</td>\n",
       "      <td>-0.144396</td>\n",
       "    </tr>\n",
       "    <tr>\n",
       "      <th>error.1</th>\n",
       "      <td>-0.105819</td>\n",
       "      <td>-0.075036</td>\n",
       "      <td>-0.103044</td>\n",
       "      <td>0.516773</td>\n",
       "      <td>0.800688</td>\n",
       "      <td>0.572660</td>\n",
       "      <td>1.000000</td>\n",
       "      <td>0.276366</td>\n",
       "      <td>-0.514196</td>\n",
       "    </tr>\n",
       "    <tr>\n",
       "      <th>Chi</th>\n",
       "      <td>-0.224421</td>\n",
       "      <td>0.036013</td>\n",
       "      <td>0.043035</td>\n",
       "      <td>0.041261</td>\n",
       "      <td>0.249743</td>\n",
       "      <td>0.044171</td>\n",
       "      <td>0.276366</td>\n",
       "      <td>1.000000</td>\n",
       "      <td>0.035426</td>\n",
       "    </tr>\n",
       "    <tr>\n",
       "      <th>Sharp</th>\n",
       "      <td>0.009418</td>\n",
       "      <td>0.044140</td>\n",
       "      <td>0.051405</td>\n",
       "      <td>-0.156516</td>\n",
       "      <td>-0.552203</td>\n",
       "      <td>-0.144396</td>\n",
       "      <td>-0.514196</td>\n",
       "      <td>0.035426</td>\n",
       "      <td>1.000000</td>\n",
       "    </tr>\n",
       "  </tbody>\n",
       "</table>\n",
       "</div>"
      ],
      "text/plain": [
       "               ID         X         Y     F606W     error     F814W   error.1  \\\n",
       "ID       1.000000  0.016550  0.230450 -0.498692 -0.110443 -0.458595 -0.105819   \n",
       "X        0.016550  1.000000  0.053451 -0.096873 -0.081905 -0.103088 -0.075036   \n",
       "Y        0.230450  0.053451  1.000000 -0.154213 -0.112309 -0.162024 -0.103044   \n",
       "F606W   -0.498692 -0.096873 -0.154213  1.000000  0.560325  0.981704  0.516773   \n",
       "error   -0.110443 -0.081905 -0.112309  0.560325  1.000000  0.565141  0.800688   \n",
       "F814W   -0.458595 -0.103088 -0.162024  0.981704  0.565141  1.000000  0.572660   \n",
       "error.1 -0.105819 -0.075036 -0.103044  0.516773  0.800688  0.572660  1.000000   \n",
       "Chi     -0.224421  0.036013  0.043035  0.041261  0.249743  0.044171  0.276366   \n",
       "Sharp    0.009418  0.044140  0.051405 -0.156516 -0.552203 -0.144396 -0.514196   \n",
       "\n",
       "              Chi     Sharp  \n",
       "ID      -0.224421  0.009418  \n",
       "X        0.036013  0.044140  \n",
       "Y        0.043035  0.051405  \n",
       "F606W    0.041261 -0.156516  \n",
       "error    0.249743 -0.552203  \n",
       "F814W    0.044171 -0.144396  \n",
       "error.1  0.276366 -0.514196  \n",
       "Chi      1.000000  0.035426  \n",
       "Sharp    0.035426  1.000000  "
      ]
     },
     "execution_count": 3,
     "metadata": {},
     "output_type": "execute_result"
    }
   ],
   "source": [
    "df.corr()"
   ]
  },
  {
   "cell_type": "code",
   "execution_count": 6,
   "metadata": {},
   "outputs": [
    {
     "data": {
      "text/plain": [
       "Text(0.5, 1.0, 'Correlation between different fearures')"
      ]
     },
     "execution_count": 6,
     "metadata": {},
     "output_type": "execute_result"
    },
    {
     "data": {
      "image/png": "[encoded data removed]",
      "text/plain": [
       "<Figure size 720x720 with 2 Axes>"
      ]
     },
     "metadata": {
      "needs_background": "light"
     },
     "output_type": "display_data"
    }
   ],
   "source": [
    "import seaborn as sns\n",
    "\n",
    "correlation = df[df.columns[1:]].corr()\n",
    "plt.figure(figsize=(10,10))\n",
    "sns.heatmap(correlation, vmax=1, square=True,annot=True,cmap='cubehelix')\n",
    "\n",
    "plt.title('Correlation between different fearures')"
   ]
  },
  {
   "cell_type": "code",
   "execution_count": 4,
   "metadata": {},
   "outputs": [
    {
     "data": {
      "text/plain": [
       "array([0.39695717, 0.24214213, 0.22504599, 0.09502065, 0.02118135,\n",
       "       0.01168484, 0.00175219, 0.00621568])"
      ]
     },
     "execution_count": 4,
     "metadata": {},
     "output_type": "execute_result"
    }
   ],
   "source": [
    "from sklearn.preprocessing import MinMaxScaler\n",
    "\n",
    "X_std = MinMaxScaler().fit_transform(df[df.columns[1:]])\n",
    "cov_mat = np.cov(X_std.T)\n",
    "eig_vals, eig_vecs = np.linalg.eig(cov_mat)\n",
    "eig_vals/eig_vals.sum()"
   ]
  },
  {
   "cell_type": "code",
   "execution_count": 5,
   "metadata": {
    "scrolled": true
   },
   "outputs": [
    {
     "data": {
      "text/html": [
       "<div>\n",
       "<style scoped>\n",
       "    .dataframe tbody tr th:only-of-type {\n",
       "        vertical-align: middle;\n",
       "    }\n",
       "\n",
       "    .dataframe tbody tr th {\n",
       "        vertical-align: top;\n",
       "    }\n",
       "\n",
       "    .dataframe thead th {\n",
       "        text-align: right;\n",
       "    }\n",
       "</style>\n",
       "<table border=\"1\" class=\"dataframe\">\n",
       "  <thead>\n",
       "    <tr style=\"text-align: right;\">\n",
       "      <th></th>\n",
       "      <th>0</th>\n",
       "      <th>1</th>\n",
       "      <th>2</th>\n",
       "      <th>3</th>\n",
       "      <th>4</th>\n",
       "      <th>5</th>\n",
       "      <th>6</th>\n",
       "      <th>7</th>\n",
       "      <th>8</th>\n",
       "      <th>9</th>\n",
       "      <th>...</th>\n",
       "      <th>51470</th>\n",
       "      <th>51471</th>\n",
       "      <th>51472</th>\n",
       "      <th>51473</th>\n",
       "      <th>51474</th>\n",
       "      <th>51475</th>\n",
       "      <th>51476</th>\n",
       "      <th>51477</th>\n",
       "      <th>51478</th>\n",
       "      <th>51479</th>\n",
       "    </tr>\n",
       "  </thead>\n",
       "  <tbody>\n",
       "    <tr>\n",
       "      <th>X</th>\n",
       "      <td>4462.9470</td>\n",
       "      <td>5002.4860</td>\n",
       "      <td>5003.5740</td>\n",
       "      <td>4448.4930</td>\n",
       "      <td>5040.7170</td>\n",
       "      <td>4559.9330</td>\n",
       "      <td>4384.7950</td>\n",
       "      <td>4402.9280</td>\n",
       "      <td>5043.7150</td>\n",
       "      <td>4953.1690</td>\n",
       "      <td>...</td>\n",
       "      <td>5309.2650</td>\n",
       "      <td>3532.3390</td>\n",
       "      <td>5666.0210</td>\n",
       "      <td>7059.1260</td>\n",
       "      <td>4945.8700</td>\n",
       "      <td>3417.4670</td>\n",
       "      <td>3435.0310</td>\n",
       "      <td>3594.5670</td>\n",
       "      <td>5155.0930</td>\n",
       "      <td>5658.6040</td>\n",
       "    </tr>\n",
       "    <tr>\n",
       "      <th>Y</th>\n",
       "      <td>140.8590</td>\n",
       "      <td>186.1380</td>\n",
       "      <td>195.4210</td>\n",
       "      <td>207.4170</td>\n",
       "      <td>224.3660</td>\n",
       "      <td>244.2790</td>\n",
       "      <td>247.0930</td>\n",
       "      <td>271.7920</td>\n",
       "      <td>272.6090</td>\n",
       "      <td>280.2860</td>\n",
       "      <td>...</td>\n",
       "      <td>10390.2710</td>\n",
       "      <td>10391.6400</td>\n",
       "      <td>10392.4900</td>\n",
       "      <td>10393.4200</td>\n",
       "      <td>10393.9200</td>\n",
       "      <td>10394.3190</td>\n",
       "      <td>10396.7300</td>\n",
       "      <td>10397.3400</td>\n",
       "      <td>10397.9200</td>\n",
       "      <td>10399.7200</td>\n",
       "    </tr>\n",
       "    <tr>\n",
       "      <th>F606W</th>\n",
       "      <td>28.1970</td>\n",
       "      <td>20.8430</td>\n",
       "      <td>27.0140</td>\n",
       "      <td>30.1930</td>\n",
       "      <td>28.9350</td>\n",
       "      <td>24.7130</td>\n",
       "      <td>28.3990</td>\n",
       "      <td>28.8150</td>\n",
       "      <td>20.4110</td>\n",
       "      <td>22.9870</td>\n",
       "      <td>...</td>\n",
       "      <td>20.3790</td>\n",
       "      <td>29.4270</td>\n",
       "      <td>28.8380</td>\n",
       "      <td>23.4210</td>\n",
       "      <td>26.0780</td>\n",
       "      <td>26.8950</td>\n",
       "      <td>23.1520</td>\n",
       "      <td>27.2090</td>\n",
       "      <td>28.2350</td>\n",
       "      <td>24.8980</td>\n",
       "    </tr>\n",
       "    <tr>\n",
       "      <th>error</th>\n",
       "      <td>0.1036</td>\n",
       "      <td>0.0552</td>\n",
       "      <td>0.2194</td>\n",
       "      <td>0.3641</td>\n",
       "      <td>0.1669</td>\n",
       "      <td>0.0574</td>\n",
       "      <td>0.1016</td>\n",
       "      <td>0.1858</td>\n",
       "      <td>0.0585</td>\n",
       "      <td>0.0532</td>\n",
       "      <td>...</td>\n",
       "      <td>0.0435</td>\n",
       "      <td>0.1816</td>\n",
       "      <td>0.1317</td>\n",
       "      <td>0.0634</td>\n",
       "      <td>0.2676</td>\n",
       "      <td>0.0783</td>\n",
       "      <td>0.0504</td>\n",
       "      <td>0.0815</td>\n",
       "      <td>0.0984</td>\n",
       "      <td>0.0349</td>\n",
       "    </tr>\n",
       "    <tr>\n",
       "      <th>F814W</th>\n",
       "      <td>27.1270</td>\n",
       "      <td>19.8150</td>\n",
       "      <td>26.0680</td>\n",
       "      <td>28.2700</td>\n",
       "      <td>28.9410</td>\n",
       "      <td>24.1850</td>\n",
       "      <td>27.4300</td>\n",
       "      <td>28.0730</td>\n",
       "      <td>19.5390</td>\n",
       "      <td>22.4850</td>\n",
       "      <td>...</td>\n",
       "      <td>19.4570</td>\n",
       "      <td>28.1010</td>\n",
       "      <td>28.5430</td>\n",
       "      <td>23.1800</td>\n",
       "      <td>24.0390</td>\n",
       "      <td>25.6020</td>\n",
       "      <td>22.6620</td>\n",
       "      <td>27.1300</td>\n",
       "      <td>26.4770</td>\n",
       "      <td>24.1980</td>\n",
       "    </tr>\n",
       "    <tr>\n",
       "      <th>error.1</th>\n",
       "      <td>0.1068</td>\n",
       "      <td>0.0661</td>\n",
       "      <td>0.1349</td>\n",
       "      <td>0.1636</td>\n",
       "      <td>0.2464</td>\n",
       "      <td>0.0687</td>\n",
       "      <td>0.1490</td>\n",
       "      <td>0.1702</td>\n",
       "      <td>0.0550</td>\n",
       "      <td>0.0635</td>\n",
       "      <td>...</td>\n",
       "      <td>0.0530</td>\n",
       "      <td>0.2309</td>\n",
       "      <td>0.2226</td>\n",
       "      <td>0.0786</td>\n",
       "      <td>0.1971</td>\n",
       "      <td>0.1050</td>\n",
       "      <td>0.0505</td>\n",
       "      <td>0.0900</td>\n",
       "      <td>0.0937</td>\n",
       "      <td>0.0752</td>\n",
       "    </tr>\n",
       "    <tr>\n",
       "      <th>Chi</th>\n",
       "      <td>6.1060</td>\n",
       "      <td>10.6900</td>\n",
       "      <td>10.6510</td>\n",
       "      <td>4.0590</td>\n",
       "      <td>4.2740</td>\n",
       "      <td>10.2280</td>\n",
       "      <td>5.9905</td>\n",
       "      <td>5.2020</td>\n",
       "      <td>10.1610</td>\n",
       "      <td>10.1570</td>\n",
       "      <td>...</td>\n",
       "      <td>8.4000</td>\n",
       "      <td>4.8450</td>\n",
       "      <td>3.0340</td>\n",
       "      <td>10.3280</td>\n",
       "      <td>30.5300</td>\n",
       "      <td>9.5080</td>\n",
       "      <td>8.8230</td>\n",
       "      <td>4.3110</td>\n",
       "      <td>6.1730</td>\n",
       "      <td>8.4770</td>\n",
       "    </tr>\n",
       "    <tr>\n",
       "      <th>Sharp</th>\n",
       "      <td>0.7310</td>\n",
       "      <td>0.4000</td>\n",
       "      <td>0.1940</td>\n",
       "      <td>-1.9585</td>\n",
       "      <td>-0.7720</td>\n",
       "      <td>-0.0700</td>\n",
       "      <td>0.8630</td>\n",
       "      <td>-0.5910</td>\n",
       "      <td>0.6110</td>\n",
       "      <td>0.5230</td>\n",
       "      <td>...</td>\n",
       "      <td>0.2770</td>\n",
       "      <td>-0.8530</td>\n",
       "      <td>-0.4510</td>\n",
       "      <td>0.2080</td>\n",
       "      <td>-0.8170</td>\n",
       "      <td>1.3140</td>\n",
       "      <td>-0.1330</td>\n",
       "      <td>0.9355</td>\n",
       "      <td>0.3190</td>\n",
       "      <td>0.7300</td>\n",
       "    </tr>\n",
       "  </tbody>\n",
       "</table>\n",
       "<p>8 rows × 51480 columns</p>\n",
       "</div>"
      ],
      "text/plain": [
       "             0          1          2          3          4          5      \\\n",
       "X        4462.9470  5002.4860  5003.5740  4448.4930  5040.7170  4559.9330   \n",
       "Y         140.8590   186.1380   195.4210   207.4170   224.3660   244.2790   \n",
       "F606W      28.1970    20.8430    27.0140    30.1930    28.9350    24.7130   \n",
       "error       0.1036     0.0552     0.2194     0.3641     0.1669     0.0574   \n",
       "F814W      27.1270    19.8150    26.0680    28.2700    28.9410    24.1850   \n",
       "error.1     0.1068     0.0661     0.1349     0.1636     0.2464     0.0687   \n",
       "Chi         6.1060    10.6900    10.6510     4.0590     4.2740    10.2280   \n",
       "Sharp       0.7310     0.4000     0.1940    -1.9585    -0.7720    -0.0700   \n",
       "\n",
       "             6          7          8          9      ...       51470  \\\n",
       "X        4384.7950  4402.9280  5043.7150  4953.1690  ...   5309.2650   \n",
       "Y         247.0930   271.7920   272.6090   280.2860  ...  10390.2710   \n",
       "F606W      28.3990    28.8150    20.4110    22.9870  ...     20.3790   \n",
       "error       0.1016     0.1858     0.0585     0.0532  ...      0.0435   \n",
       "F814W      27.4300    28.0730    19.5390    22.4850  ...     19.4570   \n",
       "error.1     0.1490     0.1702     0.0550     0.0635  ...      0.0530   \n",
       "Chi         5.9905     5.2020    10.1610    10.1570  ...      8.4000   \n",
       "Sharp       0.8630    -0.5910     0.6110     0.5230  ...      0.2770   \n",
       "\n",
       "              51471       51472       51473       51474       51475  \\\n",
       "X         3532.3390   5666.0210   7059.1260   4945.8700   3417.4670   \n",
       "Y        10391.6400  10392.4900  10393.4200  10393.9200  10394.3190   \n",
       "F606W       29.4270     28.8380     23.4210     26.0780     26.8950   \n",
       "error        0.1816      0.1317      0.0634      0.2676      0.0783   \n",
       "F814W       28.1010     28.5430     23.1800     24.0390     25.6020   \n",
       "error.1      0.2309      0.2226      0.0786      0.1971      0.1050   \n",
       "Chi          4.8450      3.0340     10.3280     30.5300      9.5080   \n",
       "Sharp       -0.8530     -0.4510      0.2080     -0.8170      1.3140   \n",
       "\n",
       "              51476       51477       51478       51479  \n",
       "X         3435.0310   3594.5670   5155.0930   5658.6040  \n",
       "Y        10396.7300  10397.3400  10397.9200  10399.7200  \n",
       "F606W       23.1520     27.2090     28.2350     24.8980  \n",
       "error        0.0504      0.0815      0.0984      0.0349  \n",
       "F814W       22.6620     27.1300     26.4770     24.1980  \n",
       "error.1      0.0505      0.0900      0.0937      0.0752  \n",
       "Chi          8.8230      4.3110      6.1730      8.4770  \n",
       "Sharp       -0.1330      0.9355      0.3190      0.7300  \n",
       "\n",
       "[8 rows x 51480 columns]"
      ]
     },
     "execution_count": 5,
     "metadata": {},
     "output_type": "execute_result"
    }
   ],
   "source": [
    "df[df.columns[1:]].T"
   ]
  },
  {
   "cell_type": "code",
   "execution_count": 2,
   "metadata": {},
   "outputs": [
    {
     "data": {
      "text/html": [
       "<div>\n",
       "<style scoped>\n",
       "    .dataframe tbody tr th:only-of-type {\n",
       "        vertical-align: middle;\n",
       "    }\n",
       "\n",
       "    .dataframe tbody tr th {\n",
       "        vertical-align: top;\n",
       "    }\n",
       "\n",
       "    .dataframe thead th {\n",
       "        text-align: right;\n",
       "    }\n",
       "</style>\n",
       "<table border=\"1\" class=\"dataframe\">\n",
       "  <thead>\n",
       "    <tr style=\"text-align: right;\">\n",
       "      <th></th>\n",
       "      <th>F606W</th>\n",
       "      <th>F814W</th>\n",
       "      <th>Chi</th>\n",
       "      <th>Sharp</th>\n",
       "      <th>Groups</th>\n",
       "    </tr>\n",
       "  </thead>\n",
       "  <tbody>\n",
       "    <tr>\n",
       "      <th>0</th>\n",
       "      <td>28.197</td>\n",
       "      <td>27.127</td>\n",
       "      <td>6.106</td>\n",
       "      <td>0.7310</td>\n",
       "      <td>1.0</td>\n",
       "    </tr>\n",
       "    <tr>\n",
       "      <th>1</th>\n",
       "      <td>20.843</td>\n",
       "      <td>19.815</td>\n",
       "      <td>10.690</td>\n",
       "      <td>0.4000</td>\n",
       "      <td>0.0</td>\n",
       "    </tr>\n",
       "    <tr>\n",
       "      <th>2</th>\n",
       "      <td>27.014</td>\n",
       "      <td>26.068</td>\n",
       "      <td>10.651</td>\n",
       "      <td>0.1940</td>\n",
       "      <td>1.0</td>\n",
       "    </tr>\n",
       "    <tr>\n",
       "      <th>3</th>\n",
       "      <td>30.193</td>\n",
       "      <td>28.270</td>\n",
       "      <td>4.059</td>\n",
       "      <td>-1.9585</td>\n",
       "      <td>1.0</td>\n",
       "    </tr>\n",
       "    <tr>\n",
       "      <th>4</th>\n",
       "      <td>28.935</td>\n",
       "      <td>28.941</td>\n",
       "      <td>4.274</td>\n",
       "      <td>-0.7720</td>\n",
       "      <td>1.0</td>\n",
       "    </tr>\n",
       "    <tr>\n",
       "      <th>...</th>\n",
       "      <td>...</td>\n",
       "      <td>...</td>\n",
       "      <td>...</td>\n",
       "      <td>...</td>\n",
       "      <td>...</td>\n",
       "    </tr>\n",
       "    <tr>\n",
       "      <th>51475</th>\n",
       "      <td>26.895</td>\n",
       "      <td>25.602</td>\n",
       "      <td>9.508</td>\n",
       "      <td>1.3140</td>\n",
       "      <td>1.0</td>\n",
       "    </tr>\n",
       "    <tr>\n",
       "      <th>51476</th>\n",
       "      <td>23.152</td>\n",
       "      <td>22.662</td>\n",
       "      <td>8.823</td>\n",
       "      <td>-0.1330</td>\n",
       "      <td>1.0</td>\n",
       "    </tr>\n",
       "    <tr>\n",
       "      <th>51477</th>\n",
       "      <td>27.209</td>\n",
       "      <td>27.130</td>\n",
       "      <td>4.311</td>\n",
       "      <td>0.9355</td>\n",
       "      <td>1.0</td>\n",
       "    </tr>\n",
       "    <tr>\n",
       "      <th>51478</th>\n",
       "      <td>28.235</td>\n",
       "      <td>26.477</td>\n",
       "      <td>6.173</td>\n",
       "      <td>0.3190</td>\n",
       "      <td>1.0</td>\n",
       "    </tr>\n",
       "    <tr>\n",
       "      <th>51479</th>\n",
       "      <td>24.898</td>\n",
       "      <td>24.198</td>\n",
       "      <td>8.477</td>\n",
       "      <td>0.7300</td>\n",
       "      <td>1.0</td>\n",
       "    </tr>\n",
       "  </tbody>\n",
       "</table>\n",
       "<p>51480 rows × 5 columns</p>\n",
       "</div>"
      ],
      "text/plain": [
       "        F606W   F814W     Chi   Sharp  Groups\n",
       "0      28.197  27.127   6.106  0.7310     1.0\n",
       "1      20.843  19.815  10.690  0.4000     0.0\n",
       "2      27.014  26.068  10.651  0.1940     1.0\n",
       "3      30.193  28.270   4.059 -1.9585     1.0\n",
       "4      28.935  28.941   4.274 -0.7720     1.0\n",
       "...       ...     ...     ...     ...     ...\n",
       "51475  26.895  25.602   9.508  1.3140     1.0\n",
       "51476  23.152  22.662   8.823 -0.1330     1.0\n",
       "51477  27.209  27.130   4.311  0.9355     1.0\n",
       "51478  28.235  26.477   6.173  0.3190     1.0\n",
       "51479  24.898  24.198   8.477  0.7300     1.0\n",
       "\n",
       "[51480 rows x 5 columns]"
      ]
     },
     "execution_count": 2,
     "metadata": {},
     "output_type": "execute_result"
    }
   ],
   "source": [
    "df = pd.read_csv(\"hlsp_deep47tuc_hst_acs_47tuc_f606w-f814w_v1_catalog.txt\", sep='\\s+')\n",
    "df.drop(columns=['X', 'Y', 'error', 'error.1', 'ID'], inplace=True)\n",
    "\n",
    "x = df.F606W - df.F814W\n",
    "y = 16.5 + 4. * x\n",
    "\n",
    "df.loc[df.F814W >= y, 'Groups'] = 1\n",
    "df.loc[df.F814W < y, 'Groups'] = 0\n",
    "df"
   ]
  },
  {
   "cell_type": "markdown",
   "metadata": {},
   "source": [
    "## Manipulating Data"
   ]
  },
  {
   "cell_type": "code",
   "execution_count": 6,
   "metadata": {},
   "outputs": [],
   "source": [
    "X = df[df.columns[:-1]].to_numpy()\n",
    "y = df[df.columns[-1]].to_numpy()"
   ]
  },
  {
   "cell_type": "code",
   "execution_count": 7,
   "metadata": {},
   "outputs": [
    {
     "data": {
      "text/plain": [
       "(51480, 2)"
      ]
     },
     "execution_count": 7,
     "metadata": {},
     "output_type": "execute_result"
    }
   ],
   "source": [
    "from tensorflow.keras.utils import to_categorical\n",
    "\n",
    "y = to_categorical(y, num_classes=2)\n",
    "#y = labels.reshape(-1, 3)\n",
    "y.shape"
   ]
  },
  {
   "cell_type": "markdown",
   "metadata": {},
   "source": [
    "## Standardizing Data"
   ]
  },
  {
   "cell_type": "code",
   "execution_count": 9,
   "metadata": {},
   "outputs": [],
   "source": [
    "from sklearn.model_selection import train_test_split\n",
    "from sklearn.preprocessing import MinMaxScaler\n",
    "\n",
    "scaler = MinMaxScaler()\n",
    "X = scaler.fit(X).transform(X)\n",
    "\n",
    "X_train, X_test, y_train, y_test = train_test_split(X, y, test_size=0.2)\n",
    "X_train, X_val, y_train, y_val = train_test_split(X_train, y_train, test_size=0.2)"
   ]
  },
  {
   "cell_type": "markdown",
   "metadata": {},
   "source": [
    "# Neural Network"
   ]
  },
  {
   "cell_type": "markdown",
   "metadata": {},
   "source": [
    "## Creating Neural Network"
   ]
  },
  {
   "cell_type": "code",
   "execution_count": 10,
   "metadata": {},
   "outputs": [
    {
     "name": "stdout",
     "output_type": "stream",
     "text": [
      "Model: \"sequential\"\n",
      "_________________________________________________________________\n",
      "Layer (type)                 Output Shape              Param #   \n",
      "=================================================================\n",
      "dense (Dense)                (None, 4)                 20        \n",
      "_________________________________________________________________\n",
      "dense_1 (Dense)              (None, 32)                160       \n",
      "_________________________________________________________________\n",
      "dense_2 (Dense)              (None, 32)                1056      \n",
      "_________________________________________________________________\n",
      "dense_3 (Dense)              (None, 2)                 66        \n",
      "=================================================================\n",
      "Total params: 1,302\n",
      "Trainable params: 1,302\n",
      "Non-trainable params: 0\n",
      "_________________________________________________________________\n"
     ]
    }
   ],
   "source": [
    "tf.keras.backend.clear_session()\n",
    "model = tf.keras.models.Sequential([\n",
    "    tf.keras.layers.Dense(len(df.columns[:-1]), input_dim=len(df.columns[:-1]), activation='relu'),\n",
    "    tf.keras.layers.Dense(32, activation=\"relu\"),\n",
    "    tf.keras.layers.Dense(32, activation=\"relu\"),\n",
    "    tf.keras.layers.Dense(2, activation=\"softmax\"),\n",
    "])\n",
    "model.summary()"
   ]
  },
  {
   "cell_type": "markdown",
   "metadata": {},
   "source": [
    "## Compiling Model and Fitting to Data"
   ]
  },
  {
   "cell_type": "code",
   "execution_count": 11,
   "metadata": {},
   "outputs": [],
   "source": [
    "optimizer = tf.keras.optimizers.Adam(learning_rate=5E-4)\n",
    "model.compile(optimizer='adam',\n",
    "              loss=tf.keras.losses.BinaryCrossentropy(from_logits=True),\n",
    "              metrics=['accuracy'])\n",
    "\n",
    "\n",
    "# metrics=['mae']\n",
    "# metrics=[tf.keras.metrics.RootMeanSquaredError()]"
   ]
  },
  {
   "cell_type": "code",
   "execution_count": 12,
   "metadata": {
    "scrolled": true
   },
   "outputs": [
    {
     "name": "stdout",
     "output_type": "stream",
     "text": [
      "Epoch 1/100\n",
      "1030/1030 [==============================] - 1s 1ms/step - loss: 0.5615 - accuracy: 0.9103 - val_loss: 0.5368 - val_accuracy: 0.9366\n",
      "Epoch 2/100\n",
      "1030/1030 [==============================] - 1s 945us/step - loss: 0.5229 - accuracy: 0.9666 - val_loss: 0.5096 - val_accuracy: 0.9928\n",
      "Epoch 3/100\n",
      "1030/1030 [==============================] - 1s 945us/step - loss: 0.5078 - accuracy: 0.9937 - val_loss: 0.5062 - val_accuracy: 0.9950\n",
      "Epoch 4/100\n",
      "1030/1030 [==============================] - 1s 941us/step - loss: 0.5060 - accuracy: 0.9955 - val_loss: 0.5058 - val_accuracy: 0.9950\n",
      "Epoch 5/100\n",
      "1030/1030 [==============================] - 1s 940us/step - loss: 0.5053 - accuracy: 0.9967 - val_loss: 0.5051 - val_accuracy: 0.9965\n",
      "Epoch 6/100\n",
      "1030/1030 [==============================] - 1s 971us/step - loss: 0.5049 - accuracy: 0.9970 - val_loss: 0.5049 - val_accuracy: 0.9985\n",
      "Epoch 7/100\n",
      "1030/1030 [==============================] - 1s 954us/step - loss: 0.5048 - accuracy: 0.9974 - val_loss: 0.5048 - val_accuracy: 0.9970\n",
      "Epoch 8/100\n",
      "1030/1030 [==============================] - 1s 950us/step - loss: 0.5048 - accuracy: 0.9973 - val_loss: 0.5043 - val_accuracy: 0.9984\n",
      "Epoch 9/100\n",
      "1030/1030 [==============================] - 1s 952us/step - loss: 0.5047 - accuracy: 0.9975 - val_loss: 0.5041 - val_accuracy: 0.9987\n",
      "Epoch 10/100\n",
      "1030/1030 [==============================] - 1s 942us/step - loss: 0.5048 - accuracy: 0.9972 - val_loss: 0.5042 - val_accuracy: 0.9981\n",
      "Epoch 11/100\n",
      "1030/1030 [==============================] - 1s 983us/step - loss: 0.5045 - accuracy: 0.9975 - val_loss: 0.5056 - val_accuracy: 0.9954\n",
      "Epoch 12/100\n",
      "1030/1030 [==============================] - 1s 948us/step - loss: 0.5050 - accuracy: 0.9965 - val_loss: 0.5054 - val_accuracy: 0.9956\n",
      "Epoch 13/100\n",
      "1030/1030 [==============================] - 1s 936us/step - loss: 0.5044 - accuracy: 0.9979 - val_loss: 0.5059 - val_accuracy: 0.9944\n",
      "Epoch 14/100\n",
      "1030/1030 [==============================] - 1s 946us/step - loss: 0.5045 - accuracy: 0.9974 - val_loss: 0.5043 - val_accuracy: 0.9981\n",
      "Epoch 15/100\n",
      "1030/1030 [==============================] - 1s 949us/step - loss: 0.5043 - accuracy: 0.9980 - val_loss: 0.5053 - val_accuracy: 0.9977\n",
      "Epoch 16/100\n",
      "1030/1030 [==============================] - 1s 995us/step - loss: 0.5046 - accuracy: 0.9975 - val_loss: 0.5041 - val_accuracy: 0.9984\n",
      "Epoch 17/100\n",
      "1030/1030 [==============================] - 1s 970us/step - loss: 0.5044 - accuracy: 0.9979 - val_loss: 0.5049 - val_accuracy: 0.9966\n",
      "Epoch 18/100\n",
      "1030/1030 [==============================] - 1s 968us/step - loss: 0.5046 - accuracy: 0.9974 - val_loss: 0.5046 - val_accuracy: 0.9968\n",
      "Epoch 19/100\n",
      "1030/1030 [==============================] - 1s 962us/step - loss: 0.5046 - accuracy: 0.9975 - val_loss: 0.5046 - val_accuracy: 0.9971\n",
      "Wall time: 19.8 s\n"
     ]
    }
   ],
   "source": [
    "%%time\n",
    "stopping = tf.keras.callbacks.EarlyStopping(monitor='loss', patience=4, mode='auto')\n",
    "history = model.fit(X_train, y_train, epochs=100, validation_data=(X_val, y_val), callbacks=stopping)"
   ]
  },
  {
   "cell_type": "code",
   "execution_count": 13,
   "metadata": {},
   "outputs": [],
   "source": [
    "_, accuracy = model.evaluate(X_val, y_val, verbose=0)"
   ]
  },
  {
   "cell_type": "code",
   "execution_count": 14,
   "metadata": {},
   "outputs": [
    {
     "data": {
      "text/plain": [
       "0.9970863461494446"
      ]
     },
     "execution_count": 14,
     "metadata": {},
     "output_type": "execute_result"
    }
   ],
   "source": [
    "accuracy"
   ]
  },
  {
   "cell_type": "code",
   "execution_count": 15,
   "metadata": {},
   "outputs": [],
   "source": [
    "prediction = model.predict(X_test)"
   ]
  },
  {
   "cell_type": "code",
   "execution_count": 17,
   "metadata": {},
   "outputs": [
    {
     "data": {
      "text/plain": [
       "array([0, 1, 1, ..., 0, 1, 1], dtype=int64)"
      ]
     },
     "execution_count": 17,
     "metadata": {},
     "output_type": "execute_result"
    }
   ],
   "source": [
    "prediction.argmax(axis=1)"
   ]
  },
  {
   "cell_type": "code",
   "execution_count": 18,
   "metadata": {},
   "outputs": [],
   "source": [
    "pred = prediction.argmax(axis=1)"
   ]
  },
  {
   "cell_type": "code",
   "execution_count": 35,
   "metadata": {},
   "outputs": [
    {
     "data": {
      "text/plain": [
       "10296"
      ]
     },
     "execution_count": 35,
     "metadata": {},
     "output_type": "execute_result"
    }
   ],
   "source": [
    "len(pred)"
   ]
  },
  {
   "cell_type": "code",
   "execution_count": 24,
   "metadata": {},
   "outputs": [
    {
     "data": {
      "text/plain": [
       "10260"
      ]
     },
     "execution_count": 24,
     "metadata": {},
     "output_type": "execute_result"
    }
   ],
   "source": [
    "(y_test.argmax(axis=1) == pred).sum()"
   ]
  },
  {
   "cell_type": "code",
   "execution_count": 27,
   "metadata": {},
   "outputs": [],
   "source": [
    "datas = scaler.inverse_transform(X_test)\n",
    "color = datas[:, 0] - datas[:, 1]"
   ]
  },
  {
   "cell_type": "code",
   "execution_count": 36,
   "metadata": {},
   "outputs": [
    {
     "data": {
      "text/plain": [
       "(33.0, 12.5)"
      ]
     },
     "execution_count": 36,
     "metadata": {},
     "output_type": "execute_result"
    },
    {
     "data": {
      "image/png": "[encoded data removed]",
      "text/plain": [
       "<Figure size 432x288 with 1 Axes>"
      ]
     },
     "metadata": {
      "needs_background": "light"
     },
     "output_type": "display_data"
    }
   ],
   "source": [
    "from matplotlib.colors import ListedColormap\n",
    "plt.scatter(color, datas[:, 1], c=pred, alpha=.3, s=0.1, cmap=ListedColormap(['g', 'b'])) # g = 0, b = 1\n",
    "plt.ylim(33, 12.5)"
   ]
  },
  {
   "cell_type": "code",
   "execution_count": 31,
   "metadata": {},
   "outputs": [
    {
     "data": {
      "text/plain": [
       "(33.0, 12.5)"
      ]
     },
     "execution_count": 31,
     "metadata": {},
     "output_type": "execute_result"
    },
    {
     "data": {
      "image/png": "[encoded data removed]",
      "text/plain": [
       "<Figure size 432x288 with 1 Axes>"
      ]
     },
     "metadata": {
      "needs_background": "light"
     },
     "output_type": "display_data"
    }
   ],
   "source": [
    "plt.scatter(color, datas[:, 1], c=y_test.argmax(axis=1), alpha=.3, s=0.1, cmap=ListedColormap(['g', 'b']))\n",
    "plt.ylim(33, 12.5)"
   ]
  },
  {
   "cell_type": "code",
   "execution_count": null,
   "metadata": {},
   "outputs": [],
   "source": []
  }
 ],
 "metadata": {
  "kernelspec": {
   "display_name": "Python 3",
   "language": "python",
   "name": "python3"
  },
  "language_info": {
   "codemirror_mode": {
    "name": "ipython",
    "version": 3
   },
   "file_extension": ".py",
   "mimetype": "text/x-python",
   "name": "python",
   "nbconvert_exporter": "python",
   "pygments_lexer": "ipython3",
   "version": "3.8.2"
  },
  "toc": {
   "base_numbering": 1,
   "nav_menu": {},
   "number_sections": true,
   "sideBar": true,
   "skip_h1_title": false,
   "title_cell": "Table of Contents",
   "title_sidebar": "Contents",
   "toc_cell": false,
   "toc_position": {},
   "toc_section_display": true,
   "toc_window_display": true
  }
 },
 "nbformat": 4,
 "nbformat_minor": 4
}
