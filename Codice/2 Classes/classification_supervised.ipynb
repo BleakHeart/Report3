{
 "cells": [
  {
   "cell_type": "code",
   "execution_count": 1,
   "metadata": {},
   "outputs": [],
   "source": [
    "import pandas as pd\n",
    "import numpy as np\n",
    "import matplotlib.pyplot as plt\n",
    "import matplotlib as mpl\n",
    "import seaborn as sns\n",
    "from matplotlib.colors import ListedColormap\n",
    "\n",
    "from sklearn.cluster import KMeans\n",
    "from sklearn.decomposition import PCA\n",
    "from sklearn.metrics import silhouette_score, adjusted_rand_score\n",
    "from sklearn.pipeline import Pipeline\n",
    "from sklearn.preprocessing import LabelEncoder, MinMaxScaler\n",
    "import os\n",
    "import pickle\n",
    "\n",
    "import multiprocessing\n",
    "\n",
    "home = \"../../\"\n",
    "\n",
    "n_cores = multiprocessing.cpu_count() - 2\n",
    "fig_width_pt = 222.62206                # Get this from LaTeX using \\the\\columnwidth\n",
    "inches_per_pt = 1.0/72.27               # Convert pt to inches\n",
    "golden_mean = (np.sqrt(5)-1.0)/2.0         # Aesthetic ratio\n",
    "fig_width = fig_width_pt*inches_per_pt  # width in inches\n",
    "fig_height =fig_width*golden_mean       # height in inches\n",
    "fig_size = [fig_width,fig_height]\n",
    "params = {'backend': 'ps',\n",
    "          'axes.labelsize': 10,\n",
    "          'legend.fontsize': 10,\n",
    "          'xtick.labelsize': 8,\n",
    "          'ytick.labelsize': 8,\n",
    "          'figure.figsize': fig_size}\n",
    "\n",
    "mpl.rcParams.update(params)"
   ]
  },
  {
   "cell_type": "code",
   "execution_count": 2,
   "metadata": {},
   "outputs": [
    {
     "data": {
      "text/html": [
       "<div>\n",
       "<style scoped>\n",
       "    .dataframe tbody tr th:only-of-type {\n",
       "        vertical-align: middle;\n",
       "    }\n",
       "\n",
       "    .dataframe tbody tr th {\n",
       "        vertical-align: top;\n",
       "    }\n",
       "\n",
       "    .dataframe thead th {\n",
       "        text-align: right;\n",
       "    }\n",
       "</style>\n",
       "<table border=\"1\" class=\"dataframe\">\n",
       "  <thead>\n",
       "    <tr style=\"text-align: right;\">\n",
       "      <th></th>\n",
       "      <th>ID</th>\n",
       "      <th>Xcor</th>\n",
       "      <th>Ycor</th>\n",
       "      <th>F606</th>\n",
       "      <th>eF606</th>\n",
       "      <th>F814</th>\n",
       "      <th>eF814</th>\n",
       "      <th>chi</th>\n",
       "      <th>sharp</th>\n",
       "      <th>Color</th>\n",
       "      <th>Label</th>\n",
       "    </tr>\n",
       "  </thead>\n",
       "  <tbody>\n",
       "    <tr>\n",
       "      <th>0</th>\n",
       "      <td>8</td>\n",
       "      <td>4462.947</td>\n",
       "      <td>140.859</td>\n",
       "      <td>28.197</td>\n",
       "      <td>0.1036</td>\n",
       "      <td>27.127</td>\n",
       "      <td>0.1068</td>\n",
       "      <td>6.106</td>\n",
       "      <td>0.7310</td>\n",
       "      <td>1.070</td>\n",
       "      <td>1.0</td>\n",
       "    </tr>\n",
       "    <tr>\n",
       "      <th>1</th>\n",
       "      <td>120</td>\n",
       "      <td>5002.486</td>\n",
       "      <td>186.138</td>\n",
       "      <td>20.843</td>\n",
       "      <td>0.0552</td>\n",
       "      <td>19.815</td>\n",
       "      <td>0.0661</td>\n",
       "      <td>10.690</td>\n",
       "      <td>0.4000</td>\n",
       "      <td>1.028</td>\n",
       "      <td>0.0</td>\n",
       "    </tr>\n",
       "    <tr>\n",
       "      <th>2</th>\n",
       "      <td>165</td>\n",
       "      <td>5003.574</td>\n",
       "      <td>195.421</td>\n",
       "      <td>27.014</td>\n",
       "      <td>0.2194</td>\n",
       "      <td>26.068</td>\n",
       "      <td>0.1349</td>\n",
       "      <td>10.651</td>\n",
       "      <td>0.1940</td>\n",
       "      <td>0.946</td>\n",
       "      <td>1.0</td>\n",
       "    </tr>\n",
       "    <tr>\n",
       "      <th>3</th>\n",
       "      <td>226</td>\n",
       "      <td>4448.493</td>\n",
       "      <td>207.417</td>\n",
       "      <td>30.193</td>\n",
       "      <td>0.3641</td>\n",
       "      <td>28.270</td>\n",
       "      <td>0.1636</td>\n",
       "      <td>4.059</td>\n",
       "      <td>-1.9585</td>\n",
       "      <td>1.923</td>\n",
       "      <td>1.0</td>\n",
       "    </tr>\n",
       "    <tr>\n",
       "      <th>4</th>\n",
       "      <td>351</td>\n",
       "      <td>5040.717</td>\n",
       "      <td>224.366</td>\n",
       "      <td>28.935</td>\n",
       "      <td>0.1669</td>\n",
       "      <td>28.941</td>\n",
       "      <td>0.2464</td>\n",
       "      <td>4.274</td>\n",
       "      <td>-0.7720</td>\n",
       "      <td>-0.006</td>\n",
       "      <td>1.0</td>\n",
       "    </tr>\n",
       "  </tbody>\n",
       "</table>\n",
       "</div>"
      ],
      "text/plain": [
       "    ID      Xcor     Ycor    F606   eF606    F814   eF814     chi   sharp  \\\n",
       "0    8  4462.947  140.859  28.197  0.1036  27.127  0.1068   6.106  0.7310   \n",
       "1  120  5002.486  186.138  20.843  0.0552  19.815  0.0661  10.690  0.4000   \n",
       "2  165  5003.574  195.421  27.014  0.2194  26.068  0.1349  10.651  0.1940   \n",
       "3  226  4448.493  207.417  30.193  0.3641  28.270  0.1636   4.059 -1.9585   \n",
       "4  351  5040.717  224.366  28.935  0.1669  28.941  0.2464   4.274 -0.7720   \n",
       "\n",
       "   Color  Label  \n",
       "0  1.070    1.0  \n",
       "1  1.028    0.0  \n",
       "2  0.946    1.0  \n",
       "3  1.923    1.0  \n",
       "4 -0.006    1.0  "
      ]
     },
     "execution_count": 2,
     "metadata": {},
     "output_type": "execute_result"
    }
   ],
   "source": [
    "names = ['ID', 'Xcor','Ycor', 'F606','eF606','F814','eF814','chi','sharp']\n",
    "df_stars = pd.read_csv('../../Data/hlsp_deep47tuc_hst_acs_47tuc_f606w-f814w_v1_catalog.txt', \n",
    "                      names=names, delim_whitespace=True, skiprows=1)\n",
    "\n",
    "df_stars['Color'] = df_stars.F606 - df_stars.F814\n",
    "\n",
    "x = df_stars['Color'].to_numpy()\n",
    "y = 16.5 + 4. * x\n",
    "\n",
    "df_stars.loc[df_stars.F814 >= y, 'Label'] = 1\n",
    "df_stars.loc[df_stars.F814 < y, 'Label'] = 0\n",
    "\n",
    "df_stars.head()"
   ]
  },
  {
   "cell_type": "markdown",
   "metadata": {},
   "source": [
    "# Visualize Data"
   ]
  },
  {
   "cell_type": "code",
   "execution_count": 3,
   "metadata": {},
   "outputs": [
    {
     "data": {
      "text/plain": [
       "(33.0, 12.0)"
      ]
     },
     "execution_count": 3,
     "metadata": {},
     "output_type": "execute_result"
    },
    {
     "data": {
      "image/png": "[encoded data removed]",
      "text/plain": [
       "<Figure size 720x360 with 1 Axes>"
      ]
     },
     "metadata": {
      "needs_background": "light"
     },
     "output_type": "display_data"
    }
   ],
   "source": [
    "plt.figure(figsize=(10,5))\n",
    "plt.plot(df_stars.Color, df_stars.F814, ',')\n",
    "plt.xlabel('Color')\n",
    "plt.ylabel('F814')\n",
    "plt.grid()\n",
    "#plt.xlim(33, 13)\n",
    "plt.ylim(33, 12)"
   ]
  },
  {
   "cell_type": "markdown",
   "metadata": {},
   "source": [
    "# Splitting the dataset into train and test samples "
   ]
  },
  {
   "cell_type": "code",
   "execution_count": 4,
   "metadata": {},
   "outputs": [],
   "source": [
    "from sklearn.model_selection import train_test_split\n",
    "from sklearn.preprocessing import minmax_scale\n",
    "\n",
    "x_preprocessed = minmax_scale(X=df_stars.drop(labels=['Label'], axis=1).values)\n",
    "x_train, x_test, y_train, y_test = train_test_split(x_preprocessed, df_stars.Label.values)"
   ]
  },
  {
   "cell_type": "markdown",
   "metadata": {},
   "source": [
    "# Grid Search and Cross Validation process\n",
    "## Random Forest Classifier and Grid Search"
   ]
  },
  {
   "cell_type": "code",
   "execution_count": 6,
   "metadata": {},
   "outputs": [
    {
     "data": {
      "image/png": "[encoded data removed]",
      "text/plain": [
       "<Figure size 1152x648 with 1 Axes>"
      ]
     },
     "metadata": {
      "needs_background": "light"
     },
     "output_type": "display_data"
    }
   ],
   "source": [
    "from sklearn.model_selection import cross_validate\n",
    "from sklearn.model_selection import GridSearchCV\n",
    "from sklearn.ensemble import ExtraTreesClassifier\n",
    "\n",
    "path = home + \"Model_best_parameters/2Classes/\"\n",
    "file = \"best_parameters_DT.p\"\n",
    "\n",
    "if not(os.path.isfile(path + file)):\n",
    "    grid_param_DT = {'n_estimators': [100, 300, 500, 800, 1000],\n",
    "                     'criterion': ['gini', 'entropy']\n",
    "                    }\n",
    "\n",
    "    model_DT = ExtraTreesClassifier()\n",
    "\n",
    "    gs_src_DT = GridSearchCV(estimator=model_DT, \n",
    "                 param_grid=grid_param_DT,\n",
    "                 scoring='accuracy',\n",
    "                 cv=10,\n",
    "                 n_jobs=-1)\n",
    "\n",
    "    gs_src_DT.fit(x_train, y_train)\n",
    "    \n",
    "    best_parameters = gs_src_DT.best_params_\n",
    "    pickle.dump(best_parameters, open(path + file, \"wb\"))\n",
    "    \n",
    "    model_DT = ExtraTreesClassifier(**best_parameters)\n",
    "    model_DT.fit(X=x_train, y=y_train)\n",
    "    \n",
    "    importances = model_DT.feature_importances_\n",
    "    std = np.std([tree.feature_importances_ for tree in model_DT.estimators_], axis=0)\n",
    "\n",
    "    forest_importances = pd.Series(importances, index=df_stars.drop(labels=['Label'], \n",
    "                                                                    axis=1).columns)\n",
    "\n",
    "    fig, ax = plt.subplots(figsize=(16,9))\n",
    "    forest_importances.plot.bar(yerr=std, ax=ax)\n",
    "    ax.set_title(\"Feature importances using MDI\")\n",
    "    ax.set_ylabel(\"Mean decrease in impurity\")\n",
    "    fig.tight_layout()\n",
    "else:\n",
    "    DT_param = pickle.load(open(path + file, 'rb'))\n",
    "    \n",
    "    model_DT = ExtraTreesClassifier(**DT_param)\n",
    "    model_DT.fit(X=x_train, y=y_train)\n",
    "\n",
    "    std = np.std([tree.feature_importances_ for tree in model_DT.estimators_], axis=0)\n",
    "\n",
    "    forest_importances = pd.DataFrame({'Importances': model_DT.feature_importances_, \n",
    "                                       'Std': std}, index=df_stars.drop(labels=['Label'], \n",
    "                                                                    axis=1).columns)\n",
    "\n",
    "    forest_importances.sort_values(by='Importances', ascending=False, inplace=True)\n",
    "\n",
    "    fig, ax = plt.subplots(figsize=(16,9))\n",
    "    forest_importances.Importances.plot.bar(yerr=forest_importances.Std, ax=ax)\n",
    "    ax.set_title(\"Feature importances using MDI\")\n",
    "    ax.set_ylabel(\"Mean decrease in impurity\")\n",
    "    fig.tight_layout()"
   ]
  },
  {
   "cell_type": "code",
   "execution_count": null,
   "metadata": {},
   "outputs": [],
   "source": [
    "from sklearn.metrics import make_scorer, accuracy_score, precision_score, recall_score, f1_score\n",
    "\n",
    "\n",
    "scoring = {'accuracy' : make_scorer(accuracy_score), \n",
    "           'precision' : make_scorer(precision_score, average='micro'),\n",
    "           'recall' : make_scorer(recall_score, average='micro'), \n",
    "           'f1_score' : make_scorer(f1_score, average='micro')}\n",
    "\n",
    "model_DT = ExtraTreesClassifier(**DT_param)\n",
    "\n",
    "DT_score = cross_validate(estimator=model_DT, X=x_train, y=y_train, cv=n_cores, scoring=scoring, n_jobs=n_cores)"
   ]
  },
  {
   "cell_type": "markdown",
   "metadata": {},
   "source": [
    "## Support Vector Classifier Grid Search"
   ]
  },
  {
   "cell_type": "code",
   "execution_count": null,
   "metadata": {},
   "outputs": [],
   "source": [
    "from sklearn.svm import SVC\n",
    "from sklearn.metrics import classification_report, confusion_matrix\n",
    "\n",
    "file = \"best_parameters_svm.p\"\n",
    "\n",
    "if not(os.path.isfile(path + file)):\n",
    "    grid_param_SVM = {'C': [0.1, 1, 10, 100],\n",
    "                      'kernel': ['poly', 'rbf']\n",
    "                     }\n",
    "\n",
    "    model_SVM = SVC(class_weight='balanced')\n",
    "\n",
    "\n",
    "    gs_src_svm = GridSearchCV(estimator=model_SVM, \n",
    "                 param_grid=grid_param_SVM,\n",
    "                 scoring='accuracy',\n",
    "                 cv=10,\n",
    "                 n_jobs=-1)\n",
    "\n",
    "    gs_src_svm.fit(x_train, y_train)\n",
    "    \n",
    "    SVM_param = gs_src_svm.best_params_\n",
    "    SVM_param\n",
    "    \n",
    "    pickle.dump(SVM_param, open(path + file, \"wb\"))\n",
    "else: \n",
    "    SVM_param = pickle.load(open(path + file, \"rb\"))"
   ]
  },
  {
   "cell_type": "code",
   "execution_count": null,
   "metadata": {},
   "outputs": [],
   "source": [
    "model_SVM = SVC(**SVM_param, class_weight='balanced')\n",
    "\n",
    "SVM_score = cross_validate(estimator=model_SVM, X=x_train, y=y_train, cv=n_cores, scoring=scoring, n_jobs=n_cores)"
   ]
  },
  {
   "cell_type": "code",
   "execution_count": null,
   "metadata": {},
   "outputs": [],
   "source": [
    "#pd.DataFrame(SVM_score).T.mean(axis=1), pd.DataFrame(SVM_score).T.std(axis=1)"
   ]
  },
  {
   "cell_type": "code",
   "execution_count": null,
   "metadata": {},
   "outputs": [],
   "source": [
    "#pd.DataFrame(SVM_score).T.to_csv(\"../Results/SVM_score.csv\", header=False)"
   ]
  },
  {
   "cell_type": "markdown",
   "metadata": {},
   "source": [
    "## New investigations"
   ]
  },
  {
   "cell_type": "markdown",
   "metadata": {},
   "source": [
    "### Random Forest "
   ]
  },
  {
   "cell_type": "code",
   "execution_count": null,
   "metadata": {},
   "outputs": [],
   "source": [
    "model_DT.fit(x_train, y_train)\n",
    "\n",
    "DT_train_pred = model_DT.predict(X=x_train)\n",
    "DT_test_pred = model_DT.predict(X=x_test)"
   ]
  },
  {
   "cell_type": "code",
   "execution_count": null,
   "metadata": {},
   "outputs": [
    {
     "name": "stdout",
     "output_type": "stream",
     "text": [
      "Train report:\n",
      "\n",
      "              precision    recall  f1-score   support\n",
      "\n",
      "         1.0       1.00      1.00      1.00     21210\n",
      "         0.0       1.00      1.00      1.00     17400\n",
      "\n",
      "    accuracy                           1.00     38610\n",
      "   macro avg       1.00      1.00      1.00     38610\n",
      "weighted avg       1.00      1.00      1.00     38610\n",
      "\n",
      "Test report:\n",
      "\n",
      "              precision    recall  f1-score   support\n",
      "\n",
      "         1.0       1.00      1.00      1.00      7067\n",
      "         0.0       1.00      1.00      1.00      5803\n",
      "\n",
      "    accuracy                           1.00     12870\n",
      "   macro avg       1.00      1.00      1.00     12870\n",
      "weighted avg       1.00      1.00      1.00     12870\n",
      "\n"
     ]
    },
    {
     "data": {
      "image/png": "[encoded data removed]",
      "text/plain": [
       "<Figure size 221.79x356.392 with 4 Axes>"
      ]
     },
     "metadata": {
      "needs_background": "light"
     },
     "output_type": "display_data"
    }
   ],
   "source": [
    "print('Train report:\\n')\n",
    "\n",
    "labels = df_stars.Label.unique()\n",
    "\n",
    "print(classification_report(y_train, DT_train_pred, labels=labels))\n",
    "\n",
    "fig, axs = plt.subplots(2, 1, figsize=(fig_width, fig_width*golden_mean*2.6))\n",
    "sns.heatmap(confusion_matrix(y_train, DT_train_pred, labels=labels), \n",
    "            ax=axs[0], cmap=\"crest\", annot=True)\n",
    "axs[0].set_title('Random Forest Train set')\n",
    "axs[0].set_ylabel('True label')\n",
    "\n",
    "print('Test report:\\n')\n",
    "print(classification_report(y_test, DT_test_pred, labels=labels))\n",
    "\n",
    "sns.heatmap(confusion_matrix(y_test, DT_test_pred, labels=labels), \n",
    "            ax=axs[1], cmap=\"crest\", annot=True)\n",
    "axs[1].set_title('Random Forest Test set')\n",
    "axs[1].set_ylabel('True label')\n",
    "axs[1].set_xlabel('Predicted label')\n",
    "\n",
    "fig.tight_layout()\n",
    "\n",
    "#plt.savefig('../Results/Images/DT_confusion_matrix.png', dpi=2000, transparent=False)"
   ]
  },
  {
   "cell_type": "markdown",
   "metadata": {},
   "source": [
    "### SVM "
   ]
  },
  {
   "cell_type": "code",
   "execution_count": null,
   "metadata": {},
   "outputs": [],
   "source": [
    "model_SVM.fit(X=x_train, y=y_train)\n",
    "\n",
    "SVM_train_pred = model_SVM.predict(X=x_train)\n",
    "SVM_test_pred = model_SVM.predict(X=x_test)"
   ]
  },
  {
   "cell_type": "code",
   "execution_count": null,
   "metadata": {},
   "outputs": [
    {
     "name": "stdout",
     "output_type": "stream",
     "text": [
      "Train report:\n",
      "\n",
      "              precision    recall  f1-score   support\n",
      "\n",
      "         1.0       1.00      1.00      1.00     21210\n",
      "         0.0       1.00      1.00      1.00     17400\n",
      "\n",
      "    accuracy                           1.00     38610\n",
      "   macro avg       1.00      1.00      1.00     38610\n",
      "weighted avg       1.00      1.00      1.00     38610\n",
      "\n",
      "Test report:\n",
      "\n",
      "              precision    recall  f1-score   support\n",
      "\n",
      "         1.0       1.00      1.00      1.00      7067\n",
      "         0.0       1.00      1.00      1.00      5803\n",
      "\n",
      "    accuracy                           1.00     12870\n",
      "   macro avg       1.00      1.00      1.00     12870\n",
      "weighted avg       1.00      1.00      1.00     12870\n",
      "\n"
     ]
    },
    {
     "data": {
      "image/png": "[encoded data removed]",
      "text/plain": [
       "<Figure size 221.79x356.392 with 4 Axes>"
      ]
     },
     "metadata": {
      "needs_background": "light"
     },
     "output_type": "display_data"
    }
   ],
   "source": [
    "print('Train report:\\n')\n",
    "print(classification_report(y_train, SVM_train_pred, labels=labels))\n",
    "\n",
    "fig, axs = plt.subplots(2, 1, figsize=(fig_width, fig_width*golden_mean*2.6))\n",
    "sns.heatmap(confusion_matrix(y_train, SVM_train_pred, labels=labels), \n",
    "            ax=axs[0], cmap=\"crest\", annot=True)\n",
    "axs[0].set_title('SVM Train set')\n",
    "axs[0].set_ylabel('True label')\n",
    "\n",
    "sns.heatmap(confusion_matrix(y_test, SVM_test_pred, labels=labels), \n",
    "            ax=axs[1], cmap=\"crest\", annot=True)\n",
    "axs[1].set_title('SVM Test set')\n",
    "axs[1].set_ylabel('True label')\n",
    "axs[1].set_xlabel('Predicted label')\n",
    "fig.tight_layout()\n",
    "print('Test report:\\n')\n",
    "print(classification_report(y_test, SVM_test_pred, labels=labels))\n",
    "\n",
    "#plt.savefig('../Results/Images/SVM_confusion_matrix.png', dpi=2000, transparent=False)"
   ]
  },
  {
   "cell_type": "code",
   "execution_count": null,
   "metadata": {},
   "outputs": [
    {
     "name": "stdout",
     "output_type": "stream",
     "text": [
      "              precision    recall  f1-score   support\n",
      "\n",
      "         1.0       1.00      1.00      1.00      7067\n",
      "         0.0       1.00      1.00      1.00      5803\n",
      "\n",
      "    accuracy                           1.00     12870\n",
      "   macro avg       1.00      1.00      1.00     12870\n",
      "weighted avg       1.00      1.00      1.00     12870\n",
      "\n"
     ]
    },
    {
     "data": {
      "text/plain": [
       "array([[7062,    5],\n",
       "       [   4, 5799]], dtype=int64)"
      ]
     },
     "execution_count": 33,
     "metadata": {},
     "output_type": "execute_result"
    }
   ],
   "source": [
    "print(classification_report(y_test, SVM_test_pred, labels=labels))\n",
    "confusion_matrix(y_test, SVM_test_pred, labels=labels)"
   ]
  }
 ],
 "metadata": {
  "interpreter": {
   "hash": "9bec9a4fae84d278cecf29348292e5365ba4299e5d55caa00177d12a99bb9320"
  },
  "kernelspec": {
   "display_name": "Python 3.9.6 64-bit",
   "language": "python",
   "name": "python3"
  },
  "language_info": {
   "codemirror_mode": {
    "name": "ipython",
    "version": 3
   },
   "file_extension": ".py",
   "mimetype": "text/x-python",
   "name": "python",
   "nbconvert_exporter": "python",
   "pygments_lexer": "ipython3",
   "version": "3.9.6"
  },
  "toc": {
   "base_numbering": 1,
   "nav_menu": {},
   "number_sections": true,
   "sideBar": true,
   "skip_h1_title": false,
   "title_cell": "Table of Contents",
   "title_sidebar": "Contents",
   "toc_cell": false,
   "toc_position": {},
   "toc_section_display": true,
   "toc_window_display": false
  }
 },
 "nbformat": 4,
 "nbformat_minor": 2
}
