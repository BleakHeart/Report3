{
 "cells": [
  {
   "cell_type": "code",
   "execution_count": 24,
   "source": [
    "import pandas as pd\n",
    "import numpy as np\n",
    "import matplotlib.pyplot as plt\n",
    "import matplotlib as mpl\n",
    "import seaborn as sns\n",
    "from matplotlib.colors import ListedColormap\n",
    "\n",
    "from sklearn.cluster import KMeans\n",
    "from sklearn.preprocessing import LabelEncoder, MinMaxScaler\n",
    "\n",
    "import multiprocessing\n",
    "\n",
    "n_cores = multiprocessing.cpu_count() - 2\n",
    "fig_width_pt = 222.62206                # Get this from LaTeX using \\the\\columnwidth\n",
    "inches_per_pt = 1.0/72.27               # Convert pt to inches\n",
    "golden_mean = (np.sqrt(5)-1.0)/2.0         # Aesthetic ratio\n",
    "fig_width = fig_width_pt*inches_per_pt  # width in inches\n",
    "fig_height =fig_width*golden_mean       # height in inches\n",
    "fig_size = [fig_width,fig_height]\n",
    "params = {'backend': 'ps',\n",
    "          'axes.labelsize': 10,\n",
    "          'legend.fontsize': 10,\n",
    "          'xtick.labelsize': 8,\n",
    "          'ytick.labelsize': 8,\n",
    "          'figure.figsize': fig_size}\n",
    "\n",
    "mpl.rcParams.update(params)"
   ],
   "outputs": [],
   "metadata": {}
  },
  {
   "cell_type": "code",
   "execution_count": 25,
   "source": [
    "names = ['ID', 'Xcor','Ycor', 'F606','eF606','F814','eF814','chi','sharp']\n",
    "df_stars = pd.read_csv('../Data/hlsp_deep47tuc_hst_acs_47tuc_f606w-f814w_v1_catalog.txt', \n",
    "                      names=names, delim_whitespace=True, skiprows=1)\n",
    "\n",
    "df_stars['Label'] = 1\n",
    "df_stars.loc[df_stars.sharp < 0, 'Label'] = 0\n",
    "df_stars.loc[df_stars.sharp > 0, 'Label'] = 2\n",
    "\n",
    "df_stars['Color'] = df_stars.F606 - df_stars.F814\n",
    "\n",
    "df_stars.head()"
   ],
   "outputs": [
    {
     "output_type": "execute_result",
     "data": {
      "text/html": [
       "<div>\n",
       "<style scoped>\n",
       "    .dataframe tbody tr th:only-of-type {\n",
       "        vertical-align: middle;\n",
       "    }\n",
       "\n",
       "    .dataframe tbody tr th {\n",
       "        vertical-align: top;\n",
       "    }\n",
       "\n",
       "    .dataframe thead th {\n",
       "        text-align: right;\n",
       "    }\n",
       "</style>\n",
       "<table border=\"1\" class=\"dataframe\">\n",
       "  <thead>\n",
       "    <tr style=\"text-align: right;\">\n",
       "      <th></th>\n",
       "      <th>ID</th>\n",
       "      <th>Xcor</th>\n",
       "      <th>Ycor</th>\n",
       "      <th>F606</th>\n",
       "      <th>eF606</th>\n",
       "      <th>F814</th>\n",
       "      <th>eF814</th>\n",
       "      <th>chi</th>\n",
       "      <th>sharp</th>\n",
       "      <th>Label</th>\n",
       "      <th>Color</th>\n",
       "    </tr>\n",
       "  </thead>\n",
       "  <tbody>\n",
       "    <tr>\n",
       "      <th>0</th>\n",
       "      <td>8</td>\n",
       "      <td>4462.947</td>\n",
       "      <td>140.859</td>\n",
       "      <td>28.197</td>\n",
       "      <td>0.1036</td>\n",
       "      <td>27.127</td>\n",
       "      <td>0.1068</td>\n",
       "      <td>6.106</td>\n",
       "      <td>0.7310</td>\n",
       "      <td>2</td>\n",
       "      <td>1.070</td>\n",
       "    </tr>\n",
       "    <tr>\n",
       "      <th>1</th>\n",
       "      <td>120</td>\n",
       "      <td>5002.486</td>\n",
       "      <td>186.138</td>\n",
       "      <td>20.843</td>\n",
       "      <td>0.0552</td>\n",
       "      <td>19.815</td>\n",
       "      <td>0.0661</td>\n",
       "      <td>10.690</td>\n",
       "      <td>0.4000</td>\n",
       "      <td>2</td>\n",
       "      <td>1.028</td>\n",
       "    </tr>\n",
       "    <tr>\n",
       "      <th>2</th>\n",
       "      <td>165</td>\n",
       "      <td>5003.574</td>\n",
       "      <td>195.421</td>\n",
       "      <td>27.014</td>\n",
       "      <td>0.2194</td>\n",
       "      <td>26.068</td>\n",
       "      <td>0.1349</td>\n",
       "      <td>10.651</td>\n",
       "      <td>0.1940</td>\n",
       "      <td>2</td>\n",
       "      <td>0.946</td>\n",
       "    </tr>\n",
       "    <tr>\n",
       "      <th>3</th>\n",
       "      <td>226</td>\n",
       "      <td>4448.493</td>\n",
       "      <td>207.417</td>\n",
       "      <td>30.193</td>\n",
       "      <td>0.3641</td>\n",
       "      <td>28.270</td>\n",
       "      <td>0.1636</td>\n",
       "      <td>4.059</td>\n",
       "      <td>-1.9585</td>\n",
       "      <td>0</td>\n",
       "      <td>1.923</td>\n",
       "    </tr>\n",
       "    <tr>\n",
       "      <th>4</th>\n",
       "      <td>351</td>\n",
       "      <td>5040.717</td>\n",
       "      <td>224.366</td>\n",
       "      <td>28.935</td>\n",
       "      <td>0.1669</td>\n",
       "      <td>28.941</td>\n",
       "      <td>0.2464</td>\n",
       "      <td>4.274</td>\n",
       "      <td>-0.7720</td>\n",
       "      <td>0</td>\n",
       "      <td>-0.006</td>\n",
       "    </tr>\n",
       "  </tbody>\n",
       "</table>\n",
       "</div>"
      ],
      "text/plain": [
       "    ID      Xcor     Ycor    F606   eF606    F814   eF814     chi   sharp  \\\n",
       "0    8  4462.947  140.859  28.197  0.1036  27.127  0.1068   6.106  0.7310   \n",
       "1  120  5002.486  186.138  20.843  0.0552  19.815  0.0661  10.690  0.4000   \n",
       "2  165  5003.574  195.421  27.014  0.2194  26.068  0.1349  10.651  0.1940   \n",
       "3  226  4448.493  207.417  30.193  0.3641  28.270  0.1636   4.059 -1.9585   \n",
       "4  351  5040.717  224.366  28.935  0.1669  28.941  0.2464   4.274 -0.7720   \n",
       "\n",
       "   Label  Color  \n",
       "0      2  1.070  \n",
       "1      2  1.028  \n",
       "2      2  0.946  \n",
       "3      0  1.923  \n",
       "4      0 -0.006  "
      ]
     },
     "metadata": {},
     "execution_count": 25
    }
   ],
   "metadata": {}
  },
  {
   "cell_type": "markdown",
   "source": [
    "# Visualize Data"
   ],
   "metadata": {}
  },
  {
   "cell_type": "code",
   "execution_count": 26,
   "source": [
    "plt.plot(df_stars.Color, df_stars.F814, ',')\n",
    "plt.xlabel('F606 - F814')\n",
    "plt.ylabel('F814')\n",
    "plt.grid()\n",
    "#plt.xlim(33, 13)\n",
    "plt.ylim(33, 12)"
   ],
   "outputs": [
    {
     "output_type": "execute_result",
     "data": {
      "text/plain": [
       "(33.0, 12.0)"
      ]
     },
     "metadata": {},
     "execution_count": 26
    },
    {
     "output_type": "display_data",
     "data": {
      "image/png": "[encoded data removed]",
      "text/plain": [
       "<Figure size 221.79x137.074 with 1 Axes>"
      ]
     },
     "metadata": {
      "needs_background": "light"
     }
    }
   ],
   "metadata": {}
  },
  {
   "cell_type": "markdown",
   "source": [
    "# Splitting the dataset into train and test samples "
   ],
   "metadata": {}
  },
  {
   "cell_type": "code",
   "execution_count": 27,
   "source": [
    "from sklearn.model_selection import train_test_split\n",
    "\n",
    "scaler = MinMaxScaler()\n",
    "scaler.fit(X=df_stars.iloc[:, :-2].values)\n",
    "x_preprocessed = scaler.transform(df_stars.iloc[:, :-2].values)\n",
    "\n",
    "x_preprocessed_3f = df_stars.loc[:, ['Color', 'F814', 'sharp']].values\n",
    "x_preprocessed_2f = df_stars.loc[:, ['Color', 'F814']].values\n",
    "\n",
    "x_train, x_test, y_train, y_test = train_test_split(x_preprocessed, df_stars.Label.values)"
   ],
   "outputs": [],
   "metadata": {}
  },
  {
   "cell_type": "markdown",
   "source": [
    "## K-Means"
   ],
   "metadata": {}
  },
  {
   "cell_type": "code",
   "execution_count": 28,
   "source": [
    "plt.figure(constrained_layout=True)\n",
    "kmeans = KMeans(n_clusters=3).fit(df_stars[['Color', 'F814']].values)\n",
    "colors = ['blue', 'purple', 'green']\n",
    "sns.scatterplot(x=df_stars.Color, y=df_stars.F814, hue=kmeans.labels_, palette=colors, s=0.8, alpha=0.5)\n",
    "plt.ylim(33, 12)\n",
    "sns.scatterplot(x=kmeans.cluster_centers_[:, 0], y=kmeans.cluster_centers_[:, 1], palette='red', ec='black', legend=False, s=20)\n",
    "plt.grid()\n",
    "plt.savefig('../Results/Images/k-means.pdf', transparent=False)"
   ],
   "outputs": [
    {
     "output_type": "display_data",
     "data": {
      "image/png": "[encoded data removed]",
      "text/plain": [
       "<Figure size 221.79x137.074 with 1 Axes>"
      ]
     },
     "metadata": {
      "needs_background": "light"
     }
    }
   ],
   "metadata": {}
  },
  {
   "cell_type": "markdown",
   "source": [
    "## Gaussian Mixture"
   ],
   "metadata": {}
  },
  {
   "cell_type": "code",
   "execution_count": 41,
   "source": [
    "from sklearn.mixture import GaussianMixture\n",
    "\n",
    "colors = ['turquoise', 'navy', 'darkorange']\n",
    "\n",
    "n_classes = len(np.unique(y_train))\n",
    "\n",
    "model_GM = GaussianMixture(n_components=n_classes,\n",
    "                           covariance_type='full', max_iter=100)\n",
    "\n",
    "'''model_GM.means_init = np.array([x_preprocessed_2f[df_stars.Label.values == i].mean(axis=0)\n",
    "                                    for i in range(n_classes)])'''\n",
    "\n",
    "model_GM.fit(x_preprocessed_2f)\n",
    "y_pred = model_GM.predict(x_preprocessed_2f)\n",
    "\n",
    "plt.figure(constrained_layout=True)\n",
    "\n",
    "sns.scatterplot(x=df_stars.Color, y=df_stars.F814, hue=y_pred, palette=colors, s=0.8, alpha=0.5)\n",
    "#sns.scatterplot(x=model_GM.means_[:, 0], y=model_GM.means_[:, 1], palette='red', ec='black', legend=False, s=20)\n",
    "\n",
    "plt.grid()\n",
    "plt.ylim(33, 12)\n",
    "plt.xlabel('Color')\n",
    "plt.ylabel('F814')\n",
    "plt.legend()\n",
    "#plt.savefig('../Results/Images/GMM_2_features.pdf', transparent=False)"
   ],
   "outputs": [
    {
     "output_type": "execute_result",
     "data": {
      "text/plain": [
       "<matplotlib.legend.Legend at 0x14bc42be0>"
      ]
     },
     "metadata": {},
     "execution_count": 41
    },
    {
     "output_type": "display_data",
     "data": {
      "image/png": "[encoded data removed]",
      "text/plain": [
       "<Figure size 221.79x137.074 with 1 Axes>"
      ]
     },
     "metadata": {
      "needs_background": "light"
     }
    }
   ],
   "metadata": {}
  },
  {
   "cell_type": "code",
   "execution_count": 42,
   "source": [
    "from sklearn.mixture import GaussianMixture\n",
    "\n",
    "colors = ['turquoise', 'navy', 'darkorange']\n",
    "\n",
    "n_classes = len(np.unique(y_train))\n",
    "\n",
    "model_GM = GaussianMixture(n_components=n_classes,\n",
    "                           covariance_type='full', max_iter=100)\n",
    "\n",
    "'''model_GM.means_init = np.array([x_preprocessed_3f[df_stars.Label.values == i].mean(axis=0)\n",
    "                                    for i in range(n_classes)])'''\n",
    "\n",
    "model_GM.fit(x_preprocessed_3f)\n",
    "y_pred = model_GM.predict(x_preprocessed_3f)\n",
    "\n",
    "plt.figure(constrained_layout=True)\n",
    "\n",
    "sns.scatterplot(x=df_stars.Color, y=df_stars.F814, hue=y_pred, palette=colors, s=0.8, alpha=0.5)\n",
    "#sns.scatterplot(x=model_GM.means_[:, 0], y=model_GM.means_[:, 1], palette='red', ec='black', legend=False, s=20)\n",
    "\n",
    "plt.grid()\n",
    "plt.ylim(33, 12)\n",
    "plt.xlabel('Color')\n",
    "plt.ylabel('F814')\n",
    "plt.legend()\n",
    "#plt.savefig('../Results/Images/GMM_3_features.pdf', transparent=False)"
   ],
   "outputs": [
    {
     "output_type": "execute_result",
     "data": {
      "text/plain": [
       "<matplotlib.legend.Legend at 0x14becf580>"
      ]
     },
     "metadata": {},
     "execution_count": 42
    },
    {
     "output_type": "display_data",
     "data": {
      "image/png": "[encoded data removed]",
      "text/plain": [
       "<Figure size 221.79x137.074 with 1 Axes>"
      ]
     },
     "metadata": {
      "needs_background": "light"
     }
    }
   ],
   "metadata": {}
  }
 ],
 "metadata": {
  "orig_nbformat": 4,
  "language_info": {
   "name": "python",
   "version": "3.9.6",
   "mimetype": "text/x-python",
   "codemirror_mode": {
    "name": "ipython",
    "version": 3
   },
   "pygments_lexer": "ipython3",
   "nbconvert_exporter": "python",
   "file_extension": ".py"
  },
  "kernelspec": {
   "name": "python3",
   "display_name": "Python 3.9.6 64-bit"
  },
  "interpreter": {
   "hash": "95ec9ec1504d83f612128e0fb229072f90bbb4cb09d9d5d93b5dd26e0ca2cfd1"
  }
 },
 "nbformat": 4,
 "nbformat_minor": 2
}